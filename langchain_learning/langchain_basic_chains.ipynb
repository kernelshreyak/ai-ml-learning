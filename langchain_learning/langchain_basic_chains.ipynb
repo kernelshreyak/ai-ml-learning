{
 "cells": [
  {
   "cell_type": "markdown",
   "metadata": {},
   "source": [
    "### Learning concepts of Langchain 0.3.x\n",
    "\n",
    "Resources referred: \n",
    "1. https://www.youtube.com/watch?v=yF9kGESAi3M\n",
    "2. https://python.langchain.com/docs/tutorials/retrievers/"
   ]
  },
  {
   "cell_type": "code",
   "execution_count": 11,
   "metadata": {},
   "outputs": [
    {
     "data": {
      "text/plain": [
       "True"
      ]
     },
     "execution_count": 11,
     "metadata": {},
     "output_type": "execute_result"
    }
   ],
   "source": [
    "from langchain_openai import ChatOpenAI\n",
    "from langchain.prompts import PromptTemplate\n",
    "from dotenv import load_dotenv\n",
    "from langchain_core.messages import HumanMessage\n",
    "\n",
    "load_dotenv()"
   ]
  },
  {
   "cell_type": "code",
   "execution_count": 2,
   "metadata": {},
   "outputs": [],
   "source": [
    "model = ChatOpenAI(\n",
    "    model=\"gpt-4o-mini\",\n",
    "    temperature=0.1,\n",
    ")"
   ]
  },
  {
   "cell_type": "code",
   "execution_count": null,
   "metadata": {},
   "outputs": [
    {
     "name": "stdout",
     "output_type": "stream",
     "text": [
      "Result from AI: The capital of India is New Delhi.\n"
     ]
    }
   ],
   "source": [
    "user_query = \"What is the capital of India?\"\n",
    "result = model.invoke(user_query)\n",
    "# The above code will output the response from the model.   \n",
    "print(f\"Result from AI: {result.content}\")"
   ]
  },
  {
   "cell_type": "code",
   "execution_count": 15,
   "metadata": {},
   "outputs": [
    {
     "name": "stdout",
     "output_type": "stream",
     "text": [
      "Prompt: text='Recognize the named entities in the text: Harry was a wizard. He lived in London and had a wand. He was born in 1990.. Return as a JSON only'\n",
      "Result from AI: ```json\n",
      "{\n",
      "  \"entities\": [\n",
      "    {\n",
      "      \"name\": \"Harry\",\n",
      "      \"type\": \"PERSON\"\n",
      "    },\n",
      "    {\n",
      "      \"name\": \"London\",\n",
      "      \"type\": \"LOCATION\"\n",
      "    },\n",
      "    {\n",
      "      \"name\": \"1990\",\n",
      "      \"type\": \"DATE\"\n",
      "    }\n",
      "  ]\n",
      "}\n",
      "```\n"
     ]
    }
   ],
   "source": [
    "template = \"Recognize the named entities in the text: {text}. Return as a JSON only\"\n",
    "prompt_template = PromptTemplate.from_template(template=template)\n",
    "\n",
    "prompt = prompt_template.invoke({\"text\": \"Harry was a wizard. He lived in London and had a wand. He was born in 1990.\"})\n",
    "print(f\"Prompt: {prompt}\")\n",
    "\n",
    "result = model.invoke(prompt)\n",
    "print(f\"Result from AI: {result.content}\")"
   ]
  },
  {
   "cell_type": "code",
   "execution_count": null,
   "metadata": {},
   "outputs": [],
   "source": []
  }
 ],
 "metadata": {
  "kernelspec": {
   "display_name": ".venv",
   "language": "python",
   "name": "python3"
  },
  "language_info": {
   "codemirror_mode": {
    "name": "ipython",
    "version": 3
   },
   "file_extension": ".py",
   "mimetype": "text/x-python",
   "name": "python",
   "nbconvert_exporter": "python",
   "pygments_lexer": "ipython3",
   "version": "3.12.3"
  }
 },
 "nbformat": 4,
 "nbformat_minor": 2
}
