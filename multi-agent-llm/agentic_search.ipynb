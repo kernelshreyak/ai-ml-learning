{
 "cells": [
  {
   "cell_type": "code",
   "execution_count": 65,
   "id": "bce41fc3-32f1-4fb9-8bd1-13cb3e39adc5",
   "metadata": {},
   "outputs": [],
   "source": [
    "# libraries\n",
    "from dotenv import load_dotenv\n",
    "import os\n",
    "from tavily import TavilyClient\n",
    "from langgraph.graph import StateGraph, END\n",
    "from typing import TypedDict, Annotated\n",
    "import operator\n",
    "from langchain_core.messages import AnyMessage, SystemMessage, HumanMessage, ToolMessage\n",
    "from langchain_openai import ChatOpenAI\n",
    "from langchain_community.tools.tavily_search import TavilySearchResults\n",
    "\n",
    "# load environment variables from .env file\n",
    "_ = load_dotenv()\n",
    "\n",
    "# connect\n",
    "client = TavilyClient(api_key=os.environ.get(\"TAVILY_API_KEY\"))"
   ]
  },
  {
   "cell_type": "code",
   "execution_count": 9,
   "id": "4b9a03a9-f1b5-49a4-b3bf-550de27dc614",
   "metadata": {},
   "outputs": [],
   "source": [
    "# run search\n",
    "result = client.search(\"What is the AQI in New delhi?\",\n",
    "                       include_answer=True)"
   ]
  },
  {
   "cell_type": "code",
   "execution_count": 10,
   "id": "88a1bde1-a742-4bb2-a72a-c04e8ffc1994",
   "metadata": {},
   "outputs": [
    {
     "data": {
      "text/plain": [
       "{'title': 'New Delhi Air Quality Index (AQI) : Real-Time Air Pollution',\n",
       " 'url': 'https://www.aqi.in/dashboard/india/delhi/new-delhi',\n",
       " 'content': 'Current New Delhi Air Quality Index (AQI) is 273 Unhealthy level with real-time air pollution PM2.5 (114µg/m³), PM10 (229µg/m³), Temperature (19.5°C) in Delhi.',\n",
       " 'score': 0.9466806,\n",
       " 'raw_content': None}"
      ]
     },
     "execution_count": 10,
     "metadata": {},
     "output_type": "execute_result"
    }
   ],
   "source": [
    "# print the answer\n",
    "result['results'][0]"
   ]
  },
  {
   "cell_type": "markdown",
   "id": "72ea96ff-3f97-449c-9dfd-e9f2e2a5433f",
   "metadata": {},
   "source": [
    "### Using an agent with persistence"
   ]
  },
  {
   "cell_type": "code",
   "execution_count": 56,
   "id": "6e9f8de8-e443-4753-8a34-7316d2caee94",
   "metadata": {},
   "outputs": [],
   "source": [
    "from langgraph.graph import StateGraph, END\n",
    "from typing import TypedDict, Annotated\n",
    "import operator\n",
    "from langchain_core.messages import AnyMessage, SystemMessage, HumanMessage, ToolMessage\n",
    "from langchain_openai import ChatOpenAI\n",
    "from langchain_community.tools.tavily_search import TavilySearchResults\n",
    "from langgraph.checkpoint.memory import MemorySaver"
   ]
  },
  {
   "cell_type": "code",
   "execution_count": 78,
   "id": "a3f7d625-faed-430f-8187-6a86931c418d",
   "metadata": {},
   "outputs": [],
   "source": [
    "tavily_search_tool = TavilySearchResults(max_results=2)"
   ]
  },
  {
   "cell_type": "code",
   "execution_count": 15,
   "id": "5a181954-1684-4b8e-9ac3-ccd8425961ad",
   "metadata": {},
   "outputs": [],
   "source": [
    "class AgentState(TypedDict):\n",
    "    messages: Annotated[list[AnyMessage], operator.add]"
   ]
  },
  {
   "cell_type": "code",
   "execution_count": 57,
   "id": "4071f2a4-a8e2-4c05-92f9-5a937e00546e",
   "metadata": {},
   "outputs": [],
   "source": [
    "class Agent:\n",
    "    def __init__(self, model, tools, system=\"\"):\n",
    "        self.system = system\n",
    "        graph = StateGraph(AgentState)\n",
    "        graph.add_node(\"llm\", self.call_openai)\n",
    "        graph.add_node(\"action\", self.take_action)\n",
    "        graph.add_conditional_edges(\"llm\", self.exists_action, {True: \"action\", False: END})\n",
    "        graph.add_edge(\"action\", \"llm\")\n",
    "        graph.set_entry_point(\"llm\")\n",
    "        # self.memory = SqliteSaver.from_conn_string(\":memory:\")\n",
    "        self.memory = MemorySaver()\n",
    "        self.graph = graph.compile(checkpointer=self.memory)\n",
    "        self.tools = {t.name: t for t in tools}\n",
    "        self.model = model.bind_tools(tools)\n",
    "\n",
    "    def call_openai(self, state: AgentState):\n",
    "        messages = state['messages']\n",
    "        if self.system:\n",
    "            messages = [SystemMessage(content=self.system)] + messages\n",
    "        message = self.model.invoke(messages)\n",
    "        return {'messages': [message]}\n",
    "\n",
    "    def exists_action(self, state: AgentState):\n",
    "        result = state['messages'][-1]\n",
    "        return len(result.tool_calls) > 0\n",
    "\n",
    "    def take_action(self, state: AgentState):\n",
    "        tool_calls = state['messages'][-1].tool_calls\n",
    "        results = []\n",
    "        for t in tool_calls:\n",
    "            print(f\"Calling: {t}\")\n",
    "            result = self.tools[t['name']].invoke(t['args'])\n",
    "            results.append(ToolMessage(tool_call_id=t['id'], name=t['name'], content=str(result)))\n",
    "        print(\"Back to the model!\")\n",
    "        return {'messages': results}"
   ]
  },
  {
   "cell_type": "code",
   "execution_count": 79,
   "id": "84be3e7c-b1b2-4eeb-8e05-a0ac896ce63e",
   "metadata": {},
   "outputs": [],
   "source": [
    "prompt = \"\"\"You are a smart research assistant. Use the search engine to look up information. \\\n",
    "You are allowed to make multiple calls (either together or in sequence). \\\n",
    "Only look up information when you are sure of what you want. \\\n",
    "If you need to look up some information before asking a follow up question, you are allowed to do that!\n",
    "\"\"\"\n",
    "model = ChatOpenAI(model=\"gpt-4o\")\n",
    "abot = Agent(model, [tavily_search_tool], system=prompt)"
   ]
  },
  {
   "cell_type": "code",
   "execution_count": 34,
   "id": "b1ef0e90-7fce-4038-be74-80ae73490229",
   "metadata": {},
   "outputs": [],
   "source": [
    "messages = [HumanMessage(content=\"What is the weather in new delhi?\")]\n",
    "thread = {\"configurable\": {\"thread_id\": \"1\"}}"
   ]
  },
  {
   "cell_type": "code",
   "execution_count": 59,
   "id": "c0461cc4-e7dd-44c2-9e0a-ca95e78ff923",
   "metadata": {},
   "outputs": [
    {
     "name": "stdout",
     "output_type": "stream",
     "text": [
      "[AIMessage(content='', additional_kwargs={'tool_calls': [{'id': 'call_JZl7PoeGS0ynQoWgGteIWaCD', 'function': {'arguments': '{\"query\":\"current weather in New Delhi\"}', 'name': 'tavily_search_results_json'}, 'type': 'function'}], 'refusal': None}, response_metadata={'token_usage': {'completion_tokens': 23, 'prompt_tokens': 153, 'total_tokens': 176, 'completion_tokens_details': {'accepted_prediction_tokens': 0, 'audio_tokens': 0, 'reasoning_tokens': 0, 'rejected_prediction_tokens': 0}, 'prompt_tokens_details': {'audio_tokens': 0, 'cached_tokens': 0}}, 'model_name': 'gpt-4o-2024-08-06', 'system_fingerprint': 'fp_5f20662549', 'finish_reason': 'tool_calls', 'logprobs': None}, id='run-9ab6b7ce-c1e3-4944-983b-d923ddb60be6-0', tool_calls=[{'name': 'tavily_search_results_json', 'args': {'query': 'current weather in New Delhi'}, 'id': 'call_JZl7PoeGS0ynQoWgGteIWaCD', 'type': 'tool_call'}], usage_metadata={'input_tokens': 153, 'output_tokens': 23, 'total_tokens': 176, 'input_token_details': {'audio': 0, 'cache_read': 0}, 'output_token_details': {'audio': 0, 'reasoning': 0}})]\n",
      "Calling: {'name': 'tavily_search_results_json', 'args': {'query': 'current weather in New Delhi'}, 'id': 'call_JZl7PoeGS0ynQoWgGteIWaCD', 'type': 'tool_call'}\n",
      "Back to the model!\n",
      "[ToolMessage(content='[{\\'url\\': \\'https://www.weatherapi.com/\\', \\'content\\': \"{\\'location\\': {\\'name\\': \\'New Delhi\\', \\'region\\': \\'Delhi\\', \\'country\\': \\'India\\', \\'lat\\': 28.6, \\'lon\\': 77.2, \\'tz_id\\': \\'Asia/Kolkata\\', \\'localtime_epoch\\': 1735124348, \\'localtime\\': \\'2024-12-25 16:29\\'}, \\'current\\': {\\'last_updated_epoch\\': 1735123500, \\'last_updated\\': \\'2024-12-25 16:15\\', \\'temp_c\\': 22.2, \\'temp_f\\': 72.0, \\'is_day\\': 1, \\'condition\\': {\\'text\\': \\'Sunny\\', \\'icon\\': \\'//cdn.weatherapi.com/weather/64x64/day/113.png\\', \\'code\\': 1000}, \\'wind_mph\\': 3.4, \\'wind_kph\\': 5.4, \\'wind_degree\\': 339, \\'wind_dir\\': \\'NNW\\', \\'pressure_mb\\': 1017.0, \\'pressure_in\\': 30.03, \\'precip_mm\\': 0.0, \\'precip_in\\': 0.0, \\'humidity\\': 37, \\'cloud\\': 12, \\'feelslike_c\\': 23.9, \\'feelslike_f\\': 75.0, \\'windchill_c\\': 22.3, \\'windchill_f\\': 72.1, \\'heatindex_c\\': 23.9, \\'heatindex_f\\': 75.0, \\'dewpoint_c\\': 6.8, \\'dewpoint_f\\': 44.2, \\'vis_km\\': 10.0, \\'vis_miles\\': 6.0, \\'uv\\': 0.3, \\'gust_mph\\': 4.5, \\'gust_kph\\': 7.2}}\"}, {\\'url\\': \\'https://world-weather.info/forecast/india/new_delhi/25-december/\\', \\'content\\': \\'Weather in New Delhi Weather in New Delhi, December 25 Weather Forecast for December 25 in New Delhi, Union Territory of Delhi - temperature, wind, atmospheric pressure, humidity and precipitations. Night   +52°    +52°    29.3    0.2 100% Day +66°    +66°    29.3    0.7 68% Meteorological sensitivity index    3   Meteosensitive people are likely to experience weather-related symptoms. Geomagnetic conditions  2   Solar activity may affect some sensitive people. Night   +55°    +55°    29.4    3.8 93% Day +72°    +72°    29.4    3.8 51% Meteorological sensitivity index    1   Weather situation is generally favorable to meteosensitive people. Night   +48°    +48°    29.3    1.1 96% Day +54°    +54°    29.3    4.9 60% Meteorological sensitivity index    3   Meteosensitive people are likely to experience weather-related symptoms. Geomagnetic conditions  2   Solar activity may affect some sensitive people.\\'}]', name='tavily_search_results_json', tool_call_id='call_JZl7PoeGS0ynQoWgGteIWaCD')]\n",
      "[AIMessage(content='The current weather in New Delhi is sunny with a temperature of 22.2°C (72.0°F). The wind is blowing from the north-northwest at 5.4 kph (3.4 mph), and the humidity is at 37%. There is no precipitation, and the visibility is 10 kilometers (6 miles).', additional_kwargs={'refusal': None}, response_metadata={'token_usage': {'completion_tokens': 72, 'prompt_tokens': 871, 'total_tokens': 943, 'completion_tokens_details': {'accepted_prediction_tokens': 0, 'audio_tokens': 0, 'reasoning_tokens': 0, 'rejected_prediction_tokens': 0}, 'prompt_tokens_details': {'audio_tokens': 0, 'cached_tokens': 0}}, 'model_name': 'gpt-4o-2024-08-06', 'system_fingerprint': 'fp_5f20662549', 'finish_reason': 'stop', 'logprobs': None}, id='run-05ea2457-245e-4c39-a6a6-63fe71146c3c-0', usage_metadata={'input_tokens': 871, 'output_tokens': 72, 'total_tokens': 943, 'input_token_details': {'audio': 0, 'cache_read': 0}, 'output_token_details': {'audio': 0, 'reasoning': 0}})]\n"
     ]
    }
   ],
   "source": [
    "for event in abot.graph.stream({\"messages\": messages}, thread):\n",
    "    for v in event.values():\n",
    "        print(v['messages'])"
   ]
  },
  {
   "cell_type": "code",
   "execution_count": 60,
   "id": "dd43afd2-c880-460f-b963-afbd6d6be06c",
   "metadata": {},
   "outputs": [
    {
     "name": "stdout",
     "output_type": "stream",
     "text": [
      "{'messages': [AIMessage(content='', additional_kwargs={'tool_calls': [{'id': 'call_9KcgCNj0Pfi5XqihsTKYuP44', 'function': {'arguments': '{\"query\":\"current weather in Ghaziabad\"}', 'name': 'tavily_search_results_json'}, 'type': 'function'}], 'refusal': None}, response_metadata={'token_usage': {'completion_tokens': 24, 'prompt_tokens': 956, 'total_tokens': 980, 'completion_tokens_details': {'accepted_prediction_tokens': 0, 'audio_tokens': 0, 'reasoning_tokens': 0, 'rejected_prediction_tokens': 0}, 'prompt_tokens_details': {'audio_tokens': 0, 'cached_tokens': 0}}, 'model_name': 'gpt-4o-2024-08-06', 'system_fingerprint': 'fp_5f20662549', 'finish_reason': 'tool_calls', 'logprobs': None}, id='run-838183c8-1bc9-4c26-a7bf-51e92ecb76a4-0', tool_calls=[{'name': 'tavily_search_results_json', 'args': {'query': 'current weather in Ghaziabad'}, 'id': 'call_9KcgCNj0Pfi5XqihsTKYuP44', 'type': 'tool_call'}], usage_metadata={'input_tokens': 956, 'output_tokens': 24, 'total_tokens': 980, 'input_token_details': {'audio': 0, 'cache_read': 0}, 'output_token_details': {'audio': 0, 'reasoning': 0}})]}\n",
      "Calling: {'name': 'tavily_search_results_json', 'args': {'query': 'current weather in Ghaziabad'}, 'id': 'call_9KcgCNj0Pfi5XqihsTKYuP44', 'type': 'tool_call'}\n",
      "Back to the model!\n",
      "{'messages': [ToolMessage(content='[{\\'url\\': \\'https://www.weatherapi.com/\\', \\'content\\': \"{\\'location\\': {\\'name\\': \\'Ghaziabad\\', \\'region\\': \\'Uttar Pradesh\\', \\'country\\': \\'India\\', \\'lat\\': 28.6667, \\'lon\\': 77.4333, \\'tz_id\\': \\'Asia/Kolkata\\', \\'localtime_epoch\\': 1735123443, \\'localtime\\': \\'2024-12-25 16:14\\'}, \\'current\\': {\\'last_updated_epoch\\': 1735122600, \\'last_updated\\': \\'2024-12-25 16:00\\', \\'temp_c\\': 22.2, \\'temp_f\\': 71.9, \\'is_day\\': 1, \\'condition\\': {\\'text\\': \\'Sunny\\', \\'icon\\': \\'//cdn.weatherapi.com/weather/64x64/day/113.png\\', \\'code\\': 1000}, \\'wind_mph\\': 3.4, \\'wind_kph\\': 5.4, \\'wind_degree\\': 322, \\'wind_dir\\': \\'NW\\', \\'pressure_mb\\': 1017.0, \\'pressure_in\\': 30.03, \\'precip_mm\\': 0.0, \\'precip_in\\': 0.0, \\'humidity\\': 39, \\'cloud\\': 13, \\'feelslike_c\\': 24.0, \\'feelslike_f\\': 75.2, \\'windchill_c\\': 22.2, \\'windchill_f\\': 71.9, \\'heatindex_c\\': 24.0, \\'heatindex_f\\': 75.2, \\'dewpoint_c\\': 7.7, \\'dewpoint_f\\': 45.8, \\'vis_km\\': 10.0, \\'vis_miles\\': 6.0, \\'uv\\': 0.3, \\'gust_mph\\': 4.7, \\'gust_kph\\': 7.6}}\"}, {\\'url\\': \\'https://m.weatheravenue.com/en/asia/in/uttar-pradesh/ghaziabad-weather-15-days.html\\', \\'content\\': \\'☼ Ghaziabad Uttar Pradesh India Weather Forecast 5 Day. Today 15: Ghaziabad Uttar Pradesh India with a temperature of Sunny°C and a wind 16 speed of North Km/h. ... Wednesday 25 December 2024. Sunny . Temperature : 22°C 71°F | 13°C 55°F Felt : 23°C 73°F Wind : 11 Km/h 7 mph Cloud cover : 0% Humidity : 13% Precipitation : 0.0 mm UV\\'}]', name='tavily_search_results_json', tool_call_id='call_9KcgCNj0Pfi5XqihsTKYuP44')]}\n",
      "{'messages': [AIMessage(content='The current weather in Ghaziabad is sunny with a temperature of 22.2°C (71.9°F). The wind is coming from the northwest at 5.4 kph (3.4 mph), and the humidity is at 39%. There is no precipitation, and the visibility is 10 kilometers (6 miles).', additional_kwargs={'refusal': None}, response_metadata={'token_usage': {'completion_tokens': 70, 'prompt_tokens': 1536, 'total_tokens': 1606, 'completion_tokens_details': {'accepted_prediction_tokens': 0, 'audio_tokens': 0, 'reasoning_tokens': 0, 'rejected_prediction_tokens': 0}, 'prompt_tokens_details': {'audio_tokens': 0, 'cached_tokens': 0}}, 'model_name': 'gpt-4o-2024-08-06', 'system_fingerprint': 'fp_5f20662549', 'finish_reason': 'stop', 'logprobs': None}, id='run-df9dd0fe-04ff-4fbb-917c-183831efe341-0', usage_metadata={'input_tokens': 1536, 'output_tokens': 70, 'total_tokens': 1606, 'input_token_details': {'audio': 0, 'cache_read': 0}, 'output_token_details': {'audio': 0, 'reasoning': 0}})]}\n"
     ]
    }
   ],
   "source": [
    "messages = [HumanMessage(content=\"What about in ghaziabad?\")]\n",
    "thread = {\"configurable\": {\"thread_id\": \"1\"}}\n",
    "for event in abot.graph.stream({\"messages\": messages}, thread):\n",
    "    for v in event.values():\n",
    "        print(v)"
   ]
  },
  {
   "cell_type": "code",
   "execution_count": 61,
   "id": "4fbde0a2-bbc6-4471-a478-7190e3c17c82",
   "metadata": {},
   "outputs": [
    {
     "name": "stdout",
     "output_type": "stream",
     "text": [
      "{'messages': [AIMessage(content='Both New Delhi and Ghaziabad currently have the same temperature of 22.2°C (72.0°F). Therefore, neither is warmer than the other at this moment.', additional_kwargs={'refusal': None}, response_metadata={'token_usage': {'completion_tokens': 38, 'prompt_tokens': 1617, 'total_tokens': 1655, 'completion_tokens_details': {'accepted_prediction_tokens': 0, 'audio_tokens': 0, 'reasoning_tokens': 0, 'rejected_prediction_tokens': 0}, 'prompt_tokens_details': {'audio_tokens': 0, 'cached_tokens': 1536}}, 'model_name': 'gpt-4o-2024-08-06', 'system_fingerprint': 'fp_5f20662549', 'finish_reason': 'stop', 'logprobs': None}, id='run-36dab3e2-b585-49ed-8150-3365c013bbe8-0', usage_metadata={'input_tokens': 1617, 'output_tokens': 38, 'total_tokens': 1655, 'input_token_details': {'audio': 0, 'cache_read': 1536}, 'output_token_details': {'audio': 0, 'reasoning': 0}})]}\n"
     ]
    }
   ],
   "source": [
    "messages = [HumanMessage(content=\"which one is warmer?\")]\n",
    "thread = {\"configurable\": {\"thread_id\": \"1\"}}\n",
    "for event in abot.graph.stream({\"messages\": messages}, thread):\n",
    "    for v in event.values():\n",
    "        print(v)"
   ]
  },
  {
   "cell_type": "code",
   "execution_count": 62,
   "id": "c1d8d64f-93d7-4704-93ad-2bbd066ba21d",
   "metadata": {},
   "outputs": [
    {
     "name": "stdout",
     "output_type": "stream",
     "text": [
      "{'messages': [AIMessage(content='', additional_kwargs={'tool_calls': [{'id': 'call_oSQn3kiqLuTBXxUB1IZoAWtM', 'function': {'arguments': '{\"query\": \"current AQI in New Delhi\"}', 'name': 'tavily_search_results_json'}, 'type': 'function'}, {'id': 'call_iXOlYXV3UfSNibrsSVIAluDB', 'function': {'arguments': '{\"query\": \"current AQI in Ghaziabad\"}', 'name': 'tavily_search_results_json'}, 'type': 'function'}], 'refusal': None}, response_metadata={'token_usage': {'completion_tokens': 64, 'prompt_tokens': 1669, 'total_tokens': 1733, 'completion_tokens_details': {'accepted_prediction_tokens': 0, 'audio_tokens': 0, 'reasoning_tokens': 0, 'rejected_prediction_tokens': 0}, 'prompt_tokens_details': {'audio_tokens': 0, 'cached_tokens': 1536}}, 'model_name': 'gpt-4o-2024-08-06', 'system_fingerprint': 'fp_5f20662549', 'finish_reason': 'tool_calls', 'logprobs': None}, id='run-075f921b-f022-4525-9122-1f1ffbf04148-0', tool_calls=[{'name': 'tavily_search_results_json', 'args': {'query': 'current AQI in New Delhi'}, 'id': 'call_oSQn3kiqLuTBXxUB1IZoAWtM', 'type': 'tool_call'}, {'name': 'tavily_search_results_json', 'args': {'query': 'current AQI in Ghaziabad'}, 'id': 'call_iXOlYXV3UfSNibrsSVIAluDB', 'type': 'tool_call'}], usage_metadata={'input_tokens': 1669, 'output_tokens': 64, 'total_tokens': 1733, 'input_token_details': {'audio': 0, 'cache_read': 1536}, 'output_token_details': {'audio': 0, 'reasoning': 0}})]}\n",
      "Calling: {'name': 'tavily_search_results_json', 'args': {'query': 'current AQI in New Delhi'}, 'id': 'call_oSQn3kiqLuTBXxUB1IZoAWtM', 'type': 'tool_call'}\n",
      "Calling: {'name': 'tavily_search_results_json', 'args': {'query': 'current AQI in Ghaziabad'}, 'id': 'call_iXOlYXV3UfSNibrsSVIAluDB', 'type': 'tool_call'}\n",
      "Back to the model!\n",
      "{'messages': [ToolMessage(content=\"[{'url': 'https://www.aqi.in/dashboard/india/delhi/new-delhi', 'content': 'Current New Delhi Air Quality Index (AQI) is 273 Unhealthy level with real-time air pollution PM2.5 (114µg/m³), PM10 (229µg/m³), Temperature (19.5°C) in Delhi.'}, {'url': 'https://www.iqair.com/gb/india/delhi/new-delhi', 'content': 'Air quality in New Delhi Air quality index (AQI⁺) and PM2.5 air pollution in New Delhi • 05:30, Dec 23 Local time. 31 Stations operated by 5 Contributors . 304 . US AQI⁺ Hazardous . ... What is the current air quality in New Delhi? PM2.5. Particulate matter under 2.5 microns.'}]\", name='tavily_search_results_json', tool_call_id='call_oSQn3kiqLuTBXxUB1IZoAWtM'), ToolMessage(content=\"[{'url': 'https://news.abplive.com/aqi/air-quality-index-in-ghaziabad-uttar-pradesh', 'content': 'Current Ghaziabad AQI level is 378 which is recorded as Severe category. This level is 102 point(s) higher compared to the previous day. The AQI, a standard measure of air quality, offers insights into the concentration of pollutants in the air, ranging from harmful particles to gases like carbon monoxide and sulfur dioxide.'}, {'url': 'https://www.aqi.in/dashboard/india/uttar-pradesh/ghaziabad', 'content': 'Current Ghaziabad Air Quality Index (AQI) is 368 Severe level with real-time air pollution PM2.5 (208µg/m³), PM10 (380µg/m³), Temperature (13.9°C) in Uttar Pradesh.'}]\", name='tavily_search_results_json', tool_call_id='call_iXOlYXV3UfSNibrsSVIAluDB')]}\n",
      "{'messages': [AIMessage(content='New Delhi currently has an Air Quality Index (AQI) of 273, which is classified as \"Unhealthy.\" In contrast, Ghaziabad has a higher AQI of 368 to 378, which falls under the \"Severe\" category. Therefore, New Delhi has a lower AQI and better air quality compared to Ghaziabad at the moment.', additional_kwargs={'refusal': None}, response_metadata={'token_usage': {'completion_tokens': 76, 'prompt_tokens': 2151, 'total_tokens': 2227, 'completion_tokens_details': {'accepted_prediction_tokens': 0, 'audio_tokens': 0, 'reasoning_tokens': 0, 'rejected_prediction_tokens': 0}, 'prompt_tokens_details': {'audio_tokens': 0, 'cached_tokens': 1664}}, 'model_name': 'gpt-4o-2024-08-06', 'system_fingerprint': 'fp_5f20662549', 'finish_reason': 'stop', 'logprobs': None}, id='run-0ca8b431-2c5d-4b6f-8d44-878714bb93df-0', usage_metadata={'input_tokens': 2151, 'output_tokens': 76, 'total_tokens': 2227, 'input_token_details': {'audio': 0, 'cache_read': 1664}, 'output_token_details': {'audio': 0, 'reasoning': 0}})]}\n"
     ]
    }
   ],
   "source": [
    "messages = [HumanMessage(content=\"Which of them have less AQI?\")]\n",
    "thread = {\"configurable\": {\"thread_id\": \"1\"}}\n",
    "for event in abot.graph.stream({\"messages\": messages}, thread):\n",
    "    for v in event.values():\n",
    "        print(v)"
   ]
  },
  {
   "cell_type": "markdown",
   "id": "da043eaf-232d-49ad-828b-73b55520b3a4",
   "metadata": {},
   "source": [
    "### some more custom tools to enhance ability of the agents"
   ]
  },
  {
   "cell_type": "code",
   "execution_count": 73,
   "id": "0fb84f42-fb3d-4a4a-a355-7a1d73bbf3a3",
   "metadata": {},
   "outputs": [],
   "source": [
    "import requests\n",
    "\n",
    "class CityAQITool:\n",
    "    def __init__(self, api_key):\n",
    "        self.api_key = api_key\n",
    "        self.base_url = \"http://api.openweathermap.org/data/2.5/air_pollution\"\n",
    "\n",
    "    def get_city_aqi(self, city_name):\n",
    "        # Fetch city coordinates\n",
    "        geo_url = f\"http://api.openweathermap.org/geo/1.0/direct\"\n",
    "        geo_params = {\n",
    "            \"q\": city_name,\n",
    "            \"appid\": self.api_key\n",
    "        }\n",
    "        geo_response = requests.get(geo_url, params=geo_params)\n",
    "        if geo_response.status_code != 200:\n",
    "            return f\"Error fetching coordinates: {geo_response.status_code} - {geo_response.text}\"\n",
    "\n",
    "        geo_data = geo_response.json()\n",
    "        if not geo_data:\n",
    "            return f\"City '{city_name}' not found.\"\n",
    "\n",
    "        # Get latitude and longitude\n",
    "        lat = geo_data[0]['lat']\n",
    "        lon = geo_data[0]['lon']\n",
    "\n",
    "        # Fetch AQI data\n",
    "        aqi_params = {\n",
    "            \"lat\": lat,\n",
    "            \"lon\": lon,\n",
    "            \"appid\": self.api_key\n",
    "        }\n",
    "        aqi_response = requests.get(self.base_url, params=aqi_params)\n",
    "        if aqi_response.status_code != 200:\n",
    "            return f\"Error fetching AQI data: {aqi_response.status_code} - {aqi_response.text}\"\n",
    "\n",
    "        aqi_data = aqi_response.json()\n",
    "        print(aqi_data)\n",
    "        aqi = aqi_data['list'][0]['main']['aqi']\n",
    "        pm2_5 =  aqi_data['list'][0]['components']['pm2_5']\n",
    "\n",
    "        # AQI Mapping\n",
    "        aqi_levels = {\n",
    "            1: \"Good\",\n",
    "            2: \"Fair\",\n",
    "            3: \"Moderate\",\n",
    "            4: \"Poor\",\n",
    "            5: \"Very Poor\"\n",
    "        }\n",
    "\n",
    "        return f\"The AQI for {city_name} is {aqi} ({aqi_levels.get(aqi, 'Unknown')} level). The PM 2.5 is {pm2_5} ug/m3\"\n"
   ]
  },
  {
   "cell_type": "code",
   "execution_count": 74,
   "id": "d8028e09-3b2a-44ff-8c66-e0c7492ff30f",
   "metadata": {},
   "outputs": [
    {
     "name": "stdout",
     "output_type": "stream",
     "text": [
      "{'coord': {'lon': 77.209, 'lat': 28.6139}, 'list': [{'main': {'aqi': 5}, 'components': {'co': 2403.26, 'no': 0.75, 'no2': 86.37, 'o3': 35.41, 'so2': 26.46, 'pm2_5': 224.38, 'pm10': 294.54, 'nh3': 23.81}, 'dt': 1735126246}]}\n",
      "The AQI for New delhi is 5 (Very Poor level). The PM 2.5 is 224.38 ug/m3\n"
     ]
    }
   ],
   "source": [
    "# Example usage:\n",
    "# Replace YOUR_API_KEY with your OpenWeatherMap API key\n",
    "aqi_tool = CityAQITool(api_key=os.environ.get(\"WEATHER_API_KEY\"))\n",
    "result = aqi_tool.get_city_aqi(\"New delhi\")\n",
    "print(result)"
   ]
  },
  {
   "cell_type": "code",
   "execution_count": 81,
   "id": "e2688c67-0d6e-4053-aa94-f8e41de54c0b",
   "metadata": {},
   "outputs": [],
   "source": [
    "from langchain.tools import tool\n",
    "\n",
    "@tool\n",
    "def get_city_aqi(city_name: str) -> str:\n",
    "    \"\"\"\n",
    "    Fetches the live AQI of a city by name.\n",
    "    Args:\n",
    "    - city_name (str): The name of the city.\n",
    "    \n",
    "    Returns:\n",
    "    - str: AQI and its description.\n",
    "    \"\"\"\n",
    "    return aqi_tool.get_city_aqi(city_name)"
   ]
  },
  {
   "cell_type": "code",
   "execution_count": 85,
   "id": "441c404e-20eb-4fdb-bad5-c78d8864d12c",
   "metadata": {},
   "outputs": [],
   "source": [
    "prompt = \"\"\"You are a smart research assistant. Use the search engine to look up information. \\\n",
    "You are allowed to make multiple calls (either together or in sequence). \\\n",
    "Only look up information when you are sure of what you want. \\\n",
    "If you need to look up some information before asking a follow up question, you are allowed to do that!\n",
    "\"\"\"\n",
    "model = ChatOpenAI(model=\"gpt-4o\")\n",
    "abot = Agent(model, [tavily_search_tool,get_city_aqi], system=prompt)"
   ]
  },
  {
   "cell_type": "code",
   "execution_count": 87,
   "id": "da20f000-594e-45b1-a2a9-3c47a33fa458",
   "metadata": {},
   "outputs": [
    {
     "name": "stdout",
     "output_type": "stream",
     "text": [
      "{'messages': [AIMessage(content='', additional_kwargs={'tool_calls': [{'id': 'call_6U1MYbHNtDN3i6kIXXKLoRBu', 'function': {'arguments': '{\"city_name\": \"New Delhi\"}', 'name': 'get_city_aqi'}, 'type': 'function'}, {'id': 'call_iRchhquAE3NszYbLbxwOoEJm', 'function': {'arguments': '{\"city_name\": \"Ghaziabad\"}', 'name': 'get_city_aqi'}, 'type': 'function'}], 'refusal': None}, response_metadata={'token_usage': {'completion_tokens': 54, 'prompt_tokens': 245, 'total_tokens': 299, 'completion_tokens_details': {'accepted_prediction_tokens': 0, 'audio_tokens': 0, 'reasoning_tokens': 0, 'rejected_prediction_tokens': 0}, 'prompt_tokens_details': {'audio_tokens': 0, 'cached_tokens': 0}}, 'model_name': 'gpt-4o-2024-08-06', 'system_fingerprint': 'fp_d28bcae782', 'finish_reason': 'tool_calls', 'logprobs': None}, id='run-2eb2eed5-a56a-4bcf-a93e-1590b68e1068-0', tool_calls=[{'name': 'get_city_aqi', 'args': {'city_name': 'New Delhi'}, 'id': 'call_6U1MYbHNtDN3i6kIXXKLoRBu', 'type': 'tool_call'}, {'name': 'get_city_aqi', 'args': {'city_name': 'Ghaziabad'}, 'id': 'call_iRchhquAE3NszYbLbxwOoEJm', 'type': 'tool_call'}], usage_metadata={'input_tokens': 245, 'output_tokens': 54, 'total_tokens': 299, 'input_token_details': {'audio': 0, 'cache_read': 0}, 'output_token_details': {'audio': 0, 'reasoning': 0}})]}\n",
      "Calling: {'name': 'get_city_aqi', 'args': {'city_name': 'New Delhi'}, 'id': 'call_6U1MYbHNtDN3i6kIXXKLoRBu', 'type': 'tool_call'}\n",
      "{'coord': {'lon': 77.209, 'lat': 28.6139}, 'list': [{'main': {'aqi': 5}, 'components': {'co': 2403.26, 'no': 0.75, 'no2': 86.37, 'o3': 35.41, 'so2': 26.46, 'pm2_5': 224.38, 'pm10': 294.54, 'nh3': 23.81}, 'dt': 1735126620}]}\n",
      "Calling: {'name': 'get_city_aqi', 'args': {'city_name': 'Ghaziabad'}, 'id': 'call_iRchhquAE3NszYbLbxwOoEJm', 'type': 'tool_call'}\n",
      "{'coord': {'lon': 77.412, 'lat': 28.6712}, 'list': [{'main': {'aqi': 5}, 'components': {'co': 1842.5, 'no': 0.25, 'no2': 57.58, 'o3': 58.65, 'so2': 27.66, 'pm2_5': 229.71, 'pm10': 312.83, 'nh3': 23.81}, 'dt': 1735126622}]}\n",
      "Back to the model!\n",
      "{'messages': [ToolMessage(content='The AQI for New Delhi is 5 (Very Poor level). The PM 2.5 is 224.38 ug/m3', name='get_city_aqi', tool_call_id='call_6U1MYbHNtDN3i6kIXXKLoRBu'), ToolMessage(content='The AQI for Ghaziabad is 5 (Very Poor level). The PM 2.5 is 229.71 ug/m3', name='get_city_aqi', tool_call_id='call_iRchhquAE3NszYbLbxwOoEJm')]}\n",
      "{'messages': [AIMessage(content='The AQI for both New Delhi and Ghaziabad is at a \"Very Poor\" level, with a score of 5. The PM 2.5 levels are slightly higher in Ghaziabad at 229.71 ug/m3 compared to 224.38 ug/m3 in New Delhi. Both cities are experiencing similar air quality conditions.', additional_kwargs={'refusal': None}, response_metadata={'token_usage': {'completion_tokens': 73, 'prompt_tokens': 369, 'total_tokens': 442, 'completion_tokens_details': {'accepted_prediction_tokens': 0, 'audio_tokens': 0, 'reasoning_tokens': 0, 'rejected_prediction_tokens': 0}, 'prompt_tokens_details': {'audio_tokens': 0, 'cached_tokens': 0}}, 'model_name': 'gpt-4o-2024-08-06', 'system_fingerprint': 'fp_d28bcae782', 'finish_reason': 'stop', 'logprobs': None}, id='run-21a9f582-b8c4-49a8-9479-92193e067047-0', usage_metadata={'input_tokens': 369, 'output_tokens': 73, 'total_tokens': 442, 'input_token_details': {'audio': 0, 'cache_read': 0}, 'output_token_details': {'audio': 0, 'reasoning': 0}})]}\n"
     ]
    }
   ],
   "source": [
    "messages = [HumanMessage(content=\"compare AQIs of new delhi and ghaziabad\")]\n",
    "thread = {\"configurable\": {\"thread_id\": \"1\"}}\n",
    "for event in abot.graph.stream({\"messages\": messages}, thread):\n",
    "    for v in event.values():\n",
    "        print(v)"
   ]
  }
 ],
 "metadata": {
  "kernelspec": {
   "display_name": "Python 3 (ipykernel)",
   "language": "python",
   "name": "python3"
  },
  "language_info": {
   "codemirror_mode": {
    "name": "ipython",
    "version": 3
   },
   "file_extension": ".py",
   "mimetype": "text/x-python",
   "name": "python",
   "nbconvert_exporter": "python",
   "pygments_lexer": "ipython3",
   "version": "3.12.3"
  }
 },
 "nbformat": 4,
 "nbformat_minor": 5
}
