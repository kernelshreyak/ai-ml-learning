{
 "cells": [
  {
   "cell_type": "markdown",
   "id": "f2be2614-3ed9-4fb1-afea-3e4e884d8634",
   "metadata": {},
   "source": [
    "## Notebook for learning the AutoGen framework\n",
    "\n",
    "https://microsoft.github.io/autogen/stable/user-guide/agentchat-user-guide/tutorial/index.html"
   ]
  },
  {
   "cell_type": "code",
   "execution_count": 1,
   "id": "613f9413-9010-49eb-8c94-e34a7e77e610",
   "metadata": {},
   "outputs": [
    {
     "data": {
      "text/plain": [
       "True"
      ]
     },
     "execution_count": 1,
     "metadata": {},
     "output_type": "execute_result"
    }
   ],
   "source": [
    "import asyncio\n",
    "\n",
    "from autogen_agentchat.agents import AssistantAgent\n",
    "from autogen_agentchat.base import TaskResult\n",
    "from autogen_agentchat.conditions import ExternalTermination, TextMentionTermination\n",
    "from autogen_agentchat.teams import RoundRobinGroupChat\n",
    "from autogen_agentchat.ui import Console\n",
    "from autogen_core import CancellationToken\n",
    "from autogen_ext.models.openai import OpenAIChatCompletionClient\n",
    "from dotenv import load_dotenv\n",
    "import os\n",
    "\n",
    "load_dotenv()"
   ]
  },
  {
   "cell_type": "code",
   "execution_count": 2,
   "id": "c9823ad2-baba-493d-8d23-572596c2562c",
   "metadata": {},
   "outputs": [],
   "source": [
    "# Define a model client. You can use other model client that implements\n",
    "# the `ChatCompletionClient` interface.\n",
    "model_client_small = OpenAIChatCompletionClient(\n",
    "    model=\"gpt-4.1-mini\",\n",
    ")\n",
    "model_client_large = OpenAIChatCompletionClient(\n",
    "    model=\"gpt-4.1\",\n",
    ")"
   ]
  },
  {
   "cell_type": "markdown",
   "id": "a38a50e2-3187-4a64-8833-1d940c7b741b",
   "metadata": {},
   "source": [
    "### Code review example in a team of 2 agents"
   ]
  },
  {
   "cell_type": "code",
   "execution_count": 4,
   "id": "b0392541-fcbb-4ba1-8833-5cf383bc3123",
   "metadata": {},
   "outputs": [],
   "source": [
    "# Create the primary agent.\n",
    "junior_coder = AssistantAgent(\n",
    "    \"coder\",\n",
    "    model_client=model_client_small,\n",
    "    # system_message=\"You are a junior programmer just starting with Python and JS. You need to write code as per requirements\",\n",
    "    system_message=\"You are a junior programmer just starting with Python and JS.\",\n",
    ")\n",
    "# Create the critic agent.\n",
    "tech_lead = AssistantAgent(\n",
    "    \"tech_lead\",\n",
    "    model_client=model_client_large,\n",
    "    system_message=\"Provide constructive feedback on the code. Respond with 'APPROVED' when your feedbacks are addressed.\",\n",
    ")"
   ]
  },
  {
   "cell_type": "code",
   "execution_count": 5,
   "id": "d9733fc5-e692-4c1b-bcc8-bb1805a5f7ad",
   "metadata": {},
   "outputs": [],
   "source": [
    "# Define a termination condition that stops the task if the critic approves.\n",
    "text_termination = TextMentionTermination(\"APPROVED\")\n",
    "\n",
    "# Create a team with the primary and critic agents.\n",
    "team = RoundRobinGroupChat([junior_coder, tech_lead], termination_condition=text_termination)"
   ]
  },
  {
   "cell_type": "code",
   "execution_count": 7,
   "id": "cc744210-78fd-4df8-bd3f-38064eabd45d",
   "metadata": {},
   "outputs": [
    {
     "name": "stdout",
     "output_type": "stream",
     "text": [
      "---------- TextMessage (user) ----------\n",
      "Write python code using numpy to return inverse of a matrix\n",
      "---------- TextMessage (coder) ----------\n",
      "Certainly! Here's a simple Python code using NumPy to return the inverse of a matrix:\n",
      "\n",
      "```python\n",
      "import numpy as np\n",
      "\n",
      "def inverse_matrix(matrix):\n",
      "    try:\n",
      "        inv_matrix = np.linalg.inv(matrix)\n",
      "        return inv_matrix\n",
      "    except np.linalg.LinAlgError:\n",
      "        return \"Matrix is singular and cannot be inverted.\"\n",
      "\n",
      "# Example usage:\n",
      "matrix = np.array([[1, 2], [3, 4]])\n",
      "print(inverse_matrix(matrix))\n",
      "```\n",
      "\n",
      "This function tries to compute the inverse of the input matrix and handles the case where the matrix is singular (non-invertible).\n",
      "---------- TextMessage (tech_lead) ----------\n",
      "**Feedback:**\n",
      "\n",
      "1. Good use of try-except for handling singular matrices.\n",
      "2. Consider adding input validation to ensure `matrix` is a 2D NumPy array and is square. \n",
      "3. The message for singular matrices is returned as a string, which may break consistency with numeric return types. Consider raising an exception instead.\n",
      "4. For clarity, add a docstring to explain the function.\n",
      "5. If the user accidentally passes a non-numpy array, consider converting it or instructing the user.\n",
      "\n",
      "**Example Improved Version:**\n",
      "```python\n",
      "import numpy as np\n",
      "\n",
      "def inverse_matrix(matrix):\n",
      "    \"\"\"\n",
      "    Returns the inverse of a given square numpy matrix.\n",
      "    Raises ValueError for non-square or singular matrices.\n",
      "    \"\"\"\n",
      "    matrix = np.asarray(matrix)\n",
      "    if matrix.ndim != 2 or matrix.shape[0] != matrix.shape[1]:\n",
      "        raise ValueError(\"Input must be a square 2D matrix.\")\n",
      "    try:\n",
      "        return np.linalg.inv(matrix)\n",
      "    except np.linalg.LinAlgError:\n",
      "        raise ValueError(\"Matrix is singular and cannot be inverted.\")\n",
      "```\n",
      "Let me know when your feedback is addressed!\n",
      "---------- TextMessage (coder) ----------\n",
      "Thanks for the feedback! I've updated the code accordingly to include input validation, raise exceptions on errors, and added a docstring. Here is the improved version:\n",
      "\n",
      "```python\n",
      "import numpy as np\n",
      "\n",
      "def inverse_matrix(matrix):\n",
      "    \"\"\"\n",
      "    Returns the inverse of a given square numpy matrix.\n",
      "    Raises ValueError for non-square or singular matrices.\n",
      "    \"\"\"\n",
      "    matrix = np.asarray(matrix)\n",
      "    if matrix.ndim != 2 or matrix.shape[0] != matrix.shape[1]:\n",
      "        raise ValueError(\"Input must be a square 2D matrix.\")\n",
      "    try:\n",
      "        return np.linalg.inv(matrix)\n",
      "    except np.linalg.LinAlgError:\n",
      "        raise ValueError(\"Matrix is singular and cannot be inverted.\")\n",
      "\n",
      "# Example usage:\n",
      "matrix = [[1, 2], [3, 4]]\n",
      "print(inverse_matrix(matrix))\n",
      "```\n",
      "\n",
      "Let me know if you'd like me to explain any part!\n",
      "---------- TextMessage (tech_lead) ----------\n",
      "APPROVED\n"
     ]
    },
    {
     "data": {
      "text/plain": [
       "TaskResult(messages=[TextMessage(source='user', models_usage=None, metadata={}, content='Write python code using numpy to return inverse of a matrix', type='TextMessage'), TextMessage(source='coder', models_usage=RequestUsage(prompt_tokens=35, completion_tokens=123), metadata={}, content='Certainly! Here\\'s a simple Python code using NumPy to return the inverse of a matrix:\\n\\n```python\\nimport numpy as np\\n\\ndef inverse_matrix(matrix):\\n    try:\\n        inv_matrix = np.linalg.inv(matrix)\\n        return inv_matrix\\n    except np.linalg.LinAlgError:\\n        return \"Matrix is singular and cannot be inverted.\"\\n\\n# Example usage:\\nmatrix = np.array([[1, 2], [3, 4]])\\nprint(inverse_matrix(matrix))\\n```\\n\\nThis function tries to compute the inverse of the input matrix and handles the case where the matrix is singular (non-invertible).', type='TextMessage'), TextMessage(source='tech_lead', models_usage=RequestUsage(prompt_tokens=172, completion_tokens=236), metadata={}, content='**Feedback:**\\n\\n1. Good use of try-except for handling singular matrices.\\n2. Consider adding input validation to ensure `matrix` is a 2D NumPy array and is square. \\n3. The message for singular matrices is returned as a string, which may break consistency with numeric return types. Consider raising an exception instead.\\n4. For clarity, add a docstring to explain the function.\\n5. If the user accidentally passes a non-numpy array, consider converting it or instructing the user.\\n\\n**Example Improved Version:**\\n```python\\nimport numpy as np\\n\\ndef inverse_matrix(matrix):\\n    \"\"\"\\n    Returns the inverse of a given square numpy matrix.\\n    Raises ValueError for non-square or singular matrices.\\n    \"\"\"\\n    matrix = np.asarray(matrix)\\n    if matrix.ndim != 2 or matrix.shape[0] != matrix.shape[1]:\\n        raise ValueError(\"Input must be a square 2D matrix.\")\\n    try:\\n        return np.linalg.inv(matrix)\\n    except np.linalg.LinAlgError:\\n        raise ValueError(\"Matrix is singular and cannot be inverted.\")\\n```\\nLet me know when your feedback is addressed!', type='TextMessage'), TextMessage(source='coder', models_usage=RequestUsage(prompt_tokens=406, completion_tokens=184), metadata={}, content='Thanks for the feedback! I\\'ve updated the code accordingly to include input validation, raise exceptions on errors, and added a docstring. Here is the improved version:\\n\\n```python\\nimport numpy as np\\n\\ndef inverse_matrix(matrix):\\n    \"\"\"\\n    Returns the inverse of a given square numpy matrix.\\n    Raises ValueError for non-square or singular matrices.\\n    \"\"\"\\n    matrix = np.asarray(matrix)\\n    if matrix.ndim != 2 or matrix.shape[0] != matrix.shape[1]:\\n        raise ValueError(\"Input must be a square 2D matrix.\")\\n    try:\\n        return np.linalg.inv(matrix)\\n    except np.linalg.LinAlgError:\\n        raise ValueError(\"Matrix is singular and cannot be inverted.\")\\n\\n# Example usage:\\nmatrix = [[1, 2], [3, 4]]\\nprint(inverse_matrix(matrix))\\n```\\n\\nLet me know if you\\'d like me to explain any part!', type='TextMessage'), TextMessage(source='tech_lead', models_usage=RequestUsage(prompt_tokens=604, completion_tokens=4), metadata={}, content='APPROVED', type='TextMessage')], stop_reason=\"Text 'APPROVED' mentioned\")"
      ]
     },
     "execution_count": 7,
     "metadata": {},
     "output_type": "execute_result"
    }
   ],
   "source": [
    "team_task = \"Write python code using numpy to return inverse of a matrix\"\n",
    "await team.reset()  # Reset the team for a new task.\n",
    "await Console(team.run_stream(task=team_task))  # Stream the messages to the console."
   ]
  },
  {
   "cell_type": "code",
   "execution_count": null,
   "id": "a65db50d-9a68-436f-89d8-d7a03048d3ee",
   "metadata": {},
   "outputs": [],
   "source": []
  }
 ],
 "metadata": {
  "kernelspec": {
   "display_name": "Python 3 (ipykernel)",
   "language": "python",
   "name": "python3"
  },
  "language_info": {
   "codemirror_mode": {
    "name": "ipython",
    "version": 3
   },
   "file_extension": ".py",
   "mimetype": "text/x-python",
   "name": "python",
   "nbconvert_exporter": "python",
   "pygments_lexer": "ipython3",
   "version": "3.12.3"
  }
 },
 "nbformat": 4,
 "nbformat_minor": 5
}
