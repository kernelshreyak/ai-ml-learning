{
 "cells": [
  {
   "cell_type": "code",
   "execution_count": 1,
   "id": "2214d607-6dcc-404f-8f66-2b1770737794",
   "metadata": {},
   "outputs": [],
   "source": [
    "from phi.agent import Agent\n",
    "from phi.model.openai import OpenAIChat\n",
    "from phi.tools.duckduckgo import DuckDuckGo"
   ]
  },
  {
   "cell_type": "code",
   "execution_count": 3,
   "id": "b2cbc61d-a732-4eff-97c0-a59d4ff3ecf2",
   "metadata": {},
   "outputs": [],
   "source": [
    "from dotenv import load_dotenv\n",
    "_ = load_dotenv()"
   ]
  },
  {
   "cell_type": "markdown",
   "id": "ff340c4a-8f9d-4264-b43e-2d4fc7a3a253",
   "metadata": {},
   "source": [
    "### Define the different agents"
   ]
  },
  {
   "cell_type": "code",
   "execution_count": 7,
   "id": "fa25db4a-ec3e-425e-8e4d-5f1ecd0d90e0",
   "metadata": {},
   "outputs": [],
   "source": [
    "web_agent = Agent(\n",
    "    name=\"Web Agent\",\n",
    "    model=OpenAIChat(id=\"gpt-4o\"),\n",
    "    tools=[DuckDuckGo()],\n",
    "    instructions=[\"Always include sources\"],\n",
    "    show_tool_calls=True,\n",
    "    markdown=True,\n",
    ")"
   ]
  },
  {
   "cell_type": "code",
   "execution_count": 6,
   "id": "58f754cf-ff93-4b23-a891-620758db2d58",
   "metadata": {},
   "outputs": [
    {
     "data": {
      "text/html": [
       "<pre style=\"white-space:pre;overflow-x:auto;line-height:normal;font-family:Menlo,'DejaVu Sans Mono',consolas,'Courier New',monospace\"><span style=\"color: #008000; text-decoration-color: #008000\">▰▱▱▱▱▱▱</span> Thinking...\n",
       "<span style=\"color: #008080; text-decoration-color: #008080\">┏━ Message ━━━━━━━━━━━━━━━━━━━━━━━━━━━━━━━━━━━━━━━━━━━━━━━━━━━━━━━━━━━━━━━━━━━━━━━━━━━━━━━━━━━━━━━━━━━━━━━━━━━━━━━┓</span>\n",
       "<span style=\"color: #008080; text-decoration-color: #008080\">┃</span>                                                                                                                 <span style=\"color: #008080; text-decoration-color: #008080\">┃</span>\n",
       "<span style=\"color: #008080; text-decoration-color: #008080\">┃</span> <span style=\"color: #008000; text-decoration-color: #008000\">Who won the world chess championship 2024? And who is the prime minister of winning country?</span>                    <span style=\"color: #008080; text-decoration-color: #008080\">┃</span>\n",
       "<span style=\"color: #008080; text-decoration-color: #008080\">┃</span>                                                                                                                 <span style=\"color: #008080; text-decoration-color: #008080\">┃</span>\n",
       "<span style=\"color: #008080; text-decoration-color: #008080\">┗━━━━━━━━━━━━━━━━━━━━━━━━━━━━━━━━━━━━━━━━━━━━━━━━━━━━━━━━━━━━━━━━━━━━━━━━━━━━━━━━━━━━━━━━━━━━━━━━━━━━━━━━━━━━━━━━━┛</span>\n",
       "<span style=\"color: #000080; text-decoration-color: #000080\">┏━ Response (8.1s) ━━━━━━━━━━━━━━━━━━━━━━━━━━━━━━━━━━━━━━━━━━━━━━━━━━━━━━━━━━━━━━━━━━━━━━━━━━━━━━━━━━━━━━━━━━━━━━━┓</span>\n",
       "<span style=\"color: #000080; text-decoration-color: #000080\">┃</span>                                                                                                                 <span style=\"color: #000080; text-decoration-color: #000080\">┃</span>\n",
       "<span style=\"color: #000080; text-decoration-color: #000080\">┃</span> Running:                                                                                                        <span style=\"color: #000080; text-decoration-color: #000080\">┃</span>\n",
       "<span style=\"color: #000080; text-decoration-color: #000080\">┃</span>                                                                                                                 <span style=\"color: #000080; text-decoration-color: #000080\">┃</span>\n",
       "<span style=\"color: #000080; text-decoration-color: #000080\">┃</span> <span style=\"color: #808000; text-decoration-color: #808000; font-weight: bold\"> • </span>duckduckgo_search(query=World Chess Championship 2024 winner, max_results=1)                                 <span style=\"color: #000080; text-decoration-color: #000080\">┃</span>\n",
       "<span style=\"color: #000080; text-decoration-color: #000080\">┃</span>                                                                                                                 <span style=\"color: #000080; text-decoration-color: #000080\">┃</span>\n",
       "<span style=\"color: #000080; text-decoration-color: #000080\">┃</span> Running:                                                                                                        <span style=\"color: #000080; text-decoration-color: #000080\">┃</span>\n",
       "<span style=\"color: #000080; text-decoration-color: #000080\">┃</span>                                                                                                                 <span style=\"color: #000080; text-decoration-color: #000080\">┃</span>\n",
       "<span style=\"color: #000080; text-decoration-color: #000080\">┃</span> <span style=\"color: #808000; text-decoration-color: #808000; font-weight: bold\"> • </span>duckduckgo_search(query=Prime Minister of India 2024, max_results=1)                                         <span style=\"color: #000080; text-decoration-color: #000080\">┃</span>\n",
       "<span style=\"color: #000080; text-decoration-color: #000080\">┃</span>                                                                                                                 <span style=\"color: #000080; text-decoration-color: #000080\">┃</span>\n",
       "<span style=\"color: #000080; text-decoration-color: #000080\">┃</span> The winner of the 2024 World Chess Championship is India's Grandmaster Gukesh Dommaraju. You can read more      <span style=\"color: #000080; text-decoration-color: #000080\">┃</span>\n",
       "<span style=\"color: #000080; text-decoration-color: #000080\">┃</span> about the championship <a href=\"https://www.chess.com/news/view/gukesh-2024-chess-world-championship-13-conclusions\" target=\"_blank\"><span style=\"color: #000080; text-decoration-color: #000080; text-decoration: underline\">here</span></a>.                                                                                    <span style=\"color: #000080; text-decoration-color: #000080\">┃</span>\n",
       "<span style=\"color: #000080; text-decoration-color: #000080\">┃</span>                                                                                                                 <span style=\"color: #000080; text-decoration-color: #000080\">┃</span>\n",
       "<span style=\"color: #000080; text-decoration-color: #000080\">┃</span> As for the Prime Minister of India in 2024, the search did not directly specify who holds the position at this  <span style=\"color: #000080; text-decoration-color: #000080\">┃</span>\n",
       "<span style=\"color: #000080; text-decoration-color: #000080\">┃</span> time. You can find more information on the list of Prime Ministers of India <a href=\"https://en.wikipedia.org/wiki/List_of_prime_ministers_of_India\" target=\"_blank\"><span style=\"color: #000080; text-decoration-color: #000080; text-decoration: underline\">here</span></a>. Given the timing, it's        <span style=\"color: #000080; text-decoration-color: #000080\">┃</span>\n",
       "<span style=\"color: #000080; text-decoration-color: #000080\">┃</span> possible that the Prime Minister remains Narendra Modi, who served before and after the 2019 elections, but     <span style=\"color: #000080; text-decoration-color: #000080\">┃</span>\n",
       "<span style=\"color: #000080; text-decoration-color: #000080\">┃</span> verification is needed for the latest details post-2024 elections.                                              <span style=\"color: #000080; text-decoration-color: #000080\">┃</span>\n",
       "<span style=\"color: #000080; text-decoration-color: #000080\">┃</span>                                                                                                                 <span style=\"color: #000080; text-decoration-color: #000080\">┃</span>\n",
       "<span style=\"color: #000080; text-decoration-color: #000080\">┗━━━━━━━━━━━━━━━━━━━━━━━━━━━━━━━━━━━━━━━━━━━━━━━━━━━━━━━━━━━━━━━━━━━━━━━━━━━━━━━━━━━━━━━━━━━━━━━━━━━━━━━━━━━━━━━━━┛</span>\n",
       "</pre>\n"
      ],
      "text/plain": [
       "\u001b[32m▰▱▱▱▱▱▱\u001b[0m Thinking...\n",
       "\u001b[36m┏━\u001b[0m\u001b[36m Message \u001b[0m\u001b[36m━━━━━━━━━━━━━━━━━━━━━━━━━━━━━━━━━━━━━━━━━━━━━━━━━━━━━━━━━━━━━━━━━━━━━━━━━━━━━━━━━━━━━━━━━━━━━━━━━━━━━━\u001b[0m\u001b[36m━┓\u001b[0m\n",
       "\u001b[36m┃\u001b[0m                                                                                                                 \u001b[36m┃\u001b[0m\n",
       "\u001b[36m┃\u001b[0m \u001b[32mWho won the world chess championship 2024? And who is the prime minister of winning country?\u001b[0m                    \u001b[36m┃\u001b[0m\n",
       "\u001b[36m┃\u001b[0m                                                                                                                 \u001b[36m┃\u001b[0m\n",
       "\u001b[36m┗━━━━━━━━━━━━━━━━━━━━━━━━━━━━━━━━━━━━━━━━━━━━━━━━━━━━━━━━━━━━━━━━━━━━━━━━━━━━━━━━━━━━━━━━━━━━━━━━━━━━━━━━━━━━━━━━━┛\u001b[0m\n",
       "\u001b[34m┏━\u001b[0m\u001b[34m Response (8.1s) \u001b[0m\u001b[34m━━━━━━━━━━━━━━━━━━━━━━━━━━━━━━━━━━━━━━━━━━━━━━━━━━━━━━━━━━━━━━━━━━━━━━━━━━━━━━━━━━━━━━━━━━━━━━\u001b[0m\u001b[34m━┓\u001b[0m\n",
       "\u001b[34m┃\u001b[0m                                                                                                                 \u001b[34m┃\u001b[0m\n",
       "\u001b[34m┃\u001b[0m Running:                                                                                                        \u001b[34m┃\u001b[0m\n",
       "\u001b[34m┃\u001b[0m                                                                                                                 \u001b[34m┃\u001b[0m\n",
       "\u001b[34m┃\u001b[0m \u001b[1;33m • \u001b[0mduckduckgo_search(query=World Chess Championship 2024 winner, max_results=1)                                 \u001b[34m┃\u001b[0m\n",
       "\u001b[34m┃\u001b[0m                                                                                                                 \u001b[34m┃\u001b[0m\n",
       "\u001b[34m┃\u001b[0m Running:                                                                                                        \u001b[34m┃\u001b[0m\n",
       "\u001b[34m┃\u001b[0m                                                                                                                 \u001b[34m┃\u001b[0m\n",
       "\u001b[34m┃\u001b[0m \u001b[1;33m • \u001b[0mduckduckgo_search(query=Prime Minister of India 2024, max_results=1)                                         \u001b[34m┃\u001b[0m\n",
       "\u001b[34m┃\u001b[0m                                                                                                                 \u001b[34m┃\u001b[0m\n",
       "\u001b[34m┃\u001b[0m The winner of the 2024 World Chess Championship is India's Grandmaster Gukesh Dommaraju. You can read more      \u001b[34m┃\u001b[0m\n",
       "\u001b[34m┃\u001b[0m about the championship \u001b]8;id=705340;https://www.chess.com/news/view/gukesh-2024-chess-world-championship-13-conclusions\u001b\\\u001b[4;34mhere\u001b[0m\u001b]8;;\u001b\\.                                                                                    \u001b[34m┃\u001b[0m\n",
       "\u001b[34m┃\u001b[0m                                                                                                                 \u001b[34m┃\u001b[0m\n",
       "\u001b[34m┃\u001b[0m As for the Prime Minister of India in 2024, the search did not directly specify who holds the position at this  \u001b[34m┃\u001b[0m\n",
       "\u001b[34m┃\u001b[0m time. You can find more information on the list of Prime Ministers of India \u001b]8;id=356854;https://en.wikipedia.org/wiki/List_of_prime_ministers_of_India\u001b\\\u001b[4;34mhere\u001b[0m\u001b]8;;\u001b\\. Given the timing, it's        \u001b[34m┃\u001b[0m\n",
       "\u001b[34m┃\u001b[0m possible that the Prime Minister remains Narendra Modi, who served before and after the 2019 elections, but     \u001b[34m┃\u001b[0m\n",
       "\u001b[34m┃\u001b[0m verification is needed for the latest details post-2024 elections.                                              \u001b[34m┃\u001b[0m\n",
       "\u001b[34m┃\u001b[0m                                                                                                                 \u001b[34m┃\u001b[0m\n",
       "\u001b[34m┗━━━━━━━━━━━━━━━━━━━━━━━━━━━━━━━━━━━━━━━━━━━━━━━━━━━━━━━━━━━━━━━━━━━━━━━━━━━━━━━━━━━━━━━━━━━━━━━━━━━━━━━━━━━━━━━━━┛\u001b[0m\n"
      ]
     },
     "metadata": {},
     "output_type": "display_data"
    },
    {
     "data": {
      "text/html": [
       "<pre style=\"white-space:pre;overflow-x:auto;line-height:normal;font-family:Menlo,'DejaVu Sans Mono',consolas,'Courier New',monospace\"></pre>\n"
      ],
      "text/plain": []
     },
     "metadata": {},
     "output_type": "display_data"
    }
   ],
   "source": [
    "web_agent.print_response(\"Who won the world chess championship 2024? And who is the prime minister of winning country?\", stream=True)"
   ]
  }
 ],
 "metadata": {
  "kernelspec": {
   "display_name": "Python 3 (ipykernel)",
   "language": "python",
   "name": "python3"
  },
  "language_info": {
   "codemirror_mode": {
    "name": "ipython",
    "version": 3
   },
   "file_extension": ".py",
   "mimetype": "text/x-python",
   "name": "python",
   "nbconvert_exporter": "python",
   "pygments_lexer": "ipython3",
   "version": "3.12.3"
  }
 },
 "nbformat": 4,
 "nbformat_minor": 5
}
