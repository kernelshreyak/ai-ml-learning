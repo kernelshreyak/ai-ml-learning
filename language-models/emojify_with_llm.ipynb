{
 "cells": [
  {
   "cell_type": "code",
   "execution_count": 10,
   "id": "aea22938-4d3e-4427-a694-ee905e41879b",
   "metadata": {},
   "outputs": [
    {
     "data": {
      "text/plain": [
       "True"
      ]
     },
     "execution_count": 10,
     "metadata": {},
     "output_type": "execute_result"
    }
   ],
   "source": [
    "from langchain_openai import ChatOpenAI\n",
    "from dotenv import load_dotenv\n",
    "import os\n",
    "from IPython.display import HTML, display\n",
    "\n",
    "load_dotenv()"
   ]
  },
  {
   "cell_type": "code",
   "execution_count": 7,
   "id": "aa07e306-4835-4791-a21d-7f785378cf8c",
   "metadata": {},
   "outputs": [],
   "source": [
    "def emojify_text(input_text: str):\n",
    "    llm = ChatOpenAI(model=\"gpt-4.1-nano\")\n",
    "    messages = [\n",
    "        (\n",
    "            \"system\",\n",
    "            \"You are a text to emoji converter. Given the user text, give back one or more emojis to end the text with. Only return the emojis and no other text.\",\n",
    "        ),\n",
    "        (\"human\", input_text),\n",
    "    ]\n",
    "    response = llm.invoke(messages)\n",
    "    return response.content"
   ]
  },
  {
   "cell_type": "code",
   "execution_count": 25,
   "id": "9fa0cb1c-a6ab-47aa-a444-5eb689c4bbef",
   "metadata": {},
   "outputs": [
    {
     "data": {
      "text/html": [
       "<div style='font-size:25px;'>🚗🍸🚫</div>"
      ],
      "text/plain": [
       "<IPython.core.display.HTML object>"
      ]
     },
     "metadata": {},
     "output_type": "display_data"
    }
   ],
   "source": [
    "# text = \"Buying a toy for myself. I am excited\"\n",
    "text = \"I am feeling a bit tipsy, cannot drive\"\n",
    "display(HTML(f\"<div style='font-size:25px;'>{emojify_text(text)}</div>\"))"
   ]
  },
  {
   "cell_type": "code",
   "execution_count": null,
   "id": "5d7fd9f1-1b57-44cc-8e44-a2c0a17259f4",
   "metadata": {},
   "outputs": [],
   "source": []
  }
 ],
 "metadata": {
  "kernelspec": {
   "display_name": "Python 3 (ipykernel)",
   "language": "python",
   "name": "python3"
  },
  "language_info": {
   "codemirror_mode": {
    "name": "ipython",
    "version": 3
   },
   "file_extension": ".py",
   "mimetype": "text/x-python",
   "name": "python",
   "nbconvert_exporter": "python",
   "pygments_lexer": "ipython3",
   "version": "3.12.3"
  }
 },
 "nbformat": 4,
 "nbformat_minor": 5
}
