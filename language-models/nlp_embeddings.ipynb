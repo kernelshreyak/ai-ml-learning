{
 "cells": [
  {
   "cell_type": "markdown",
   "id": "91bf117f-5af9-498e-88d7-f76a239b769d",
   "metadata": {},
   "source": [
    "## Learning embeddings"
   ]
  },
  {
   "cell_type": "markdown",
   "id": "ad63de39-af64-4a1f-89f5-5b99498c323a",
   "metadata": {},
   "source": [
    "### Using Word2Vec"
   ]
  },
  {
   "cell_type": "code",
   "execution_count": 8,
   "id": "e94c6417-88f2-4180-94b7-4f01c24d3603",
   "metadata": {},
   "outputs": [],
   "source": [
    "from gensim.models import Word2Vec"
   ]
  },
  {
   "cell_type": "code",
   "execution_count": 7,
   "id": "675eca4a-62d2-4e71-9b6a-bd00d9d2643a",
   "metadata": {},
   "outputs": [
    {
     "name": "stdout",
     "output_type": "stream",
     "text": [
      "[-0.01427803  0.00248206 -0.01435343 -0.00448924  0.00743861  0.01166625\n",
      "  0.00239637  0.00420546 -0.00822078  0.01445067 -0.01261408  0.00929443\n",
      " -0.01643995  0.00407294 -0.0099541  -0.00849538 -0.00621797  0.01131042\n",
      "  0.0115968  -0.0099493   0.00154666 -0.01699156  0.01561961  0.01851458\n",
      " -0.00548466  0.00160045  0.0014933   0.01095577 -0.01721216  0.00116891\n",
      "  0.01373884  0.00446319  0.00224935 -0.01864431  0.01696473 -0.01252825\n",
      " -0.00598475  0.00698757 -0.00154526  0.00282258  0.00356398 -0.0136578\n",
      " -0.01944962  0.01808117  0.01239611 -0.01382586  0.00680696  0.00041213\n",
      "  0.00950749 -0.01423989]\n",
      "[('sat', 0.1845843642950058), ('at', 0.13940520584583282), ('dog', 0.10704141855239868), ('barked', -0.010146207176148891), ('the', -0.0560765378177166), ('on', -0.08931691199541092), ('mat', -0.10186848789453506), ('mailman', -0.11910455673933029)]\n"
     ]
    }
   ],
   "source": [
    "# Sample sentences\n",
    "sentences = [[\"the\", \"cat\", \"sat\", \"on\", \"the\", \"mat\"],\n",
    "             [\"dog\", \"barked\", \"at\", \"the\", \"mailman\"]]\n",
    "\n",
    "# Train a Skip-Gram model\n",
    "word2vec_model = Word2Vec(sentences, vector_size=50, window=2, min_count=1, sg=1)\n",
    "\n",
    "# Get word vector\n",
    "print(word2vec_model.wv[\"cat\"])\n",
    "\n",
    "# Find similar words\n",
    "print(word2vec_model.wv.most_similar(\"cat\"))"
   ]
  },
  {
   "cell_type": "markdown",
   "id": "f5fe33bf-a9ff-472d-8f1b-143d113451d9",
   "metadata": {},
   "source": [
    "### Using PyTorch Embedding Layer"
   ]
  },
  {
   "cell_type": "code",
   "execution_count": 9,
   "id": "5ce2b506-0dc6-449c-b3a1-88518de8174d",
   "metadata": {},
   "outputs": [],
   "source": [
    "import torch\n",
    "import torch.nn as nn"
   ]
  },
  {
   "cell_type": "code",
   "execution_count": 10,
   "id": "bbd29967-e832-40b9-9e04-0ef5a1ec738e",
   "metadata": {},
   "outputs": [
    {
     "name": "stdout",
     "output_type": "stream",
     "text": [
      "tensor([[-1.2225, -0.3311, -0.8140,  0.3835,  1.0128]],\n",
      "       grad_fn=<EmbeddingBackward0>)\n"
     ]
    }
   ],
   "source": [
    "# Define vocabulary\n",
    "word_to_ix = {\"hello\": 0, \"world\": 1, \"goodbye\": 2}\n",
    "\n",
    "# Create embedding layer\n",
    "embedding_dim = 5  # Size of word vectors\n",
    "embedding_layer = nn.Embedding(num_embeddings=len(word_to_ix), embedding_dim=embedding_dim)\n",
    "\n",
    "# Convert word index to tensor\n",
    "word_idx = torch.tensor([word_to_ix[\"hello\"]], dtype=torch.long)\n",
    "\n",
    "# Get embedding\n",
    "word_embedding = embedding_layer(word_idx)\n",
    "print(word_embedding)\n"
   ]
  },
  {
   "cell_type": "code",
   "execution_count": null,
   "id": "99a368de-d645-485a-b192-e90b081fe40c",
   "metadata": {},
   "outputs": [],
   "source": []
  }
 ],
 "metadata": {
  "kernelspec": {
   "display_name": "Python 3 (ipykernel)",
   "language": "python",
   "name": "python3"
  },
  "language_info": {
   "codemirror_mode": {
    "name": "ipython",
    "version": 3
   },
   "file_extension": ".py",
   "mimetype": "text/x-python",
   "name": "python",
   "nbconvert_exporter": "python",
   "pygments_lexer": "ipython3",
   "version": "3.12.3"
  }
 },
 "nbformat": 4,
 "nbformat_minor": 5
}
