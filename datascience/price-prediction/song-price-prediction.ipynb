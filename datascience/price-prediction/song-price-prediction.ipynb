{
 "cells": [
  {
   "cell_type": "code",
   "execution_count": 19,
   "metadata": {},
   "outputs": [],
   "source": [
    "import pandas as pd\n",
    "import matplotlib.pyplot as plt"
   ]
  },
  {
   "cell_type": "code",
   "execution_count": 16,
   "metadata": {},
   "outputs": [
    {
     "data": {
      "text/html": [
       "<div>\n",
       "<style scoped>\n",
       "    .dataframe tbody tr th:only-of-type {\n",
       "        vertical-align: middle;\n",
       "    }\n",
       "\n",
       "    .dataframe tbody tr th {\n",
       "        vertical-align: top;\n",
       "    }\n",
       "\n",
       "    .dataframe thead th {\n",
       "        text-align: right;\n",
       "    }\n",
       "</style>\n",
       "<table border=\"1\" class=\"dataframe\">\n",
       "  <thead>\n",
       "    <tr style=\"text-align: right;\">\n",
       "      <th></th>\n",
       "      <th>Song Title</th>\n",
       "      <th>Artist</th>\n",
       "      <th>YouTube Views</th>\n",
       "      <th>Spotify Plays</th>\n",
       "      <th>DSP Revenues (Est)</th>\n",
       "    </tr>\n",
       "  </thead>\n",
       "  <tbody>\n",
       "    <tr>\n",
       "      <th>0</th>\n",
       "      <td>Wish You the Worst</td>\n",
       "      <td>Alemeda</td>\n",
       "      <td>13023</td>\n",
       "      <td>553447.0</td>\n",
       "      <td>4981.03</td>\n",
       "    </tr>\n",
       "    <tr>\n",
       "      <th>1</th>\n",
       "      <td>Grammy</td>\n",
       "      <td>ARDN</td>\n",
       "      <td>23675</td>\n",
       "      <td>291529.0</td>\n",
       "      <td>2634.48</td>\n",
       "    </tr>\n",
       "    <tr>\n",
       "      <th>3</th>\n",
       "      <td>Face</td>\n",
       "      <td>Elhae</td>\n",
       "      <td>76842</td>\n",
       "      <td>248046.0</td>\n",
       "      <td>2237.78</td>\n",
       "    </tr>\n",
       "    <tr>\n",
       "      <th>4</th>\n",
       "      <td>Duck Duck Goose</td>\n",
       "      <td>Joyner Lucas</td>\n",
       "      <td>5868024</td>\n",
       "      <td>14107967.0</td>\n",
       "      <td>127385.82</td>\n",
       "    </tr>\n",
       "    <tr>\n",
       "      <th>5</th>\n",
       "      <td>Rich Shit</td>\n",
       "      <td>Lil Gotit</td>\n",
       "      <td>242288</td>\n",
       "      <td>889367.0</td>\n",
       "      <td>4004.31</td>\n",
       "    </tr>\n",
       "  </tbody>\n",
       "</table>\n",
       "</div>"
      ],
      "text/plain": [
       "           Song Title        Artist YouTube Views  Spotify Plays  \\\n",
       "0  Wish You the Worst       Alemeda         13023       553447.0   \n",
       "1              Grammy          ARDN         23675       291529.0   \n",
       "3                Face         Elhae         76842       248046.0   \n",
       "4     Duck Duck Goose  Joyner Lucas       5868024     14107967.0   \n",
       "5           Rich Shit     Lil Gotit        242288       889367.0   \n",
       "\n",
       "  DSP Revenues (Est)  \n",
       "0            4981.03  \n",
       "1            2634.48  \n",
       "3            2237.78  \n",
       "4          127385.82  \n",
       "5            4004.31  "
      ]
     },
     "execution_count": 16,
     "metadata": {},
     "output_type": "execute_result"
    }
   ],
   "source": [
    "df = pd.read_excel(\"../datasets/price-catalog.xlsx\")\n",
    "df = df.drop(['Album','Individual Artwork','Featured Artists','% ownership','Registered PRO','Estimated Value $'],axis=1)\n",
    "df = df.dropna()\n",
    "df.head()"
   ]
  },
  {
   "cell_type": "code",
   "execution_count": 18,
   "metadata": {},
   "outputs": [],
   "source": [
    "df.to_csv(\"../datasets/price-catalog-cleaned.csv\")"
   ]
  },
  {
   "cell_type": "code",
   "execution_count": 32,
   "metadata": {},
   "outputs": [
    {
     "data": {
      "image/png": "[encoded data removed]",
      "text/plain": [
       "<Figure size 432x288 with 1 Axes>"
      ]
     },
     "metadata": {
      "needs_background": "light"
     },
     "output_type": "display_data"
    },
    {
     "data": {
      "image/png": "[encoded data removed]",
      "text/plain": [
       "<Figure size 432x288 with 1 Axes>"
      ]
     },
     "metadata": {
      "needs_background": "light"
     },
     "output_type": "display_data"
    }
   ],
   "source": [
    "features_x = ['Spotify Plays','YouTube Views']\n",
    "for feature in features_x:\n",
    "    plt.figure()\n",
    "    plt.plot(df[feature],df['DSP Revenues (Est)'],'o')\n",
    "    plt.title(feature + ' VS Price')\n",
    "    plt.xlabel(feature)\n",
    "    plt.ylabel('Price')"
   ]
  }
 ],
 "metadata": {
  "kernelspec": {
   "display_name": "venv",
   "language": "python",
   "name": "python3"
  },
  "language_info": {
   "codemirror_mode": {
    "name": "ipython",
    "version": 3
   },
   "file_extension": ".py",
   "mimetype": "text/x-python",
   "name": "python",
   "nbconvert_exporter": "python",
   "pygments_lexer": "ipython3",
   "version": "3.10.12"
  },
  "orig_nbformat": 4
 },
 "nbformat": 4,
 "nbformat_minor": 2
}
