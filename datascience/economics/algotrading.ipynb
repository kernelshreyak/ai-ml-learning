{
 "cells": [
  {
   "cell_type": "code",
   "execution_count": 1,
   "metadata": {},
   "outputs": [],
   "source": [
    "import pandas as pd\n",
    "import numpy as np\n",
    "import yfinance as yf\n"
   ]
  },
  {
   "cell_type": "code",
   "execution_count": 7,
   "metadata": {},
   "outputs": [
    {
     "name": "stdout",
     "output_type": "stream",
     "text": [
      "[*********************100%***********************]  1 of 1 completed\n",
      "      Symbol Signal       Price        P/L\n",
      "0   PAYTM.NS    BUY  916.849976   0.000000\n",
      "1   PAYTM.NS   SELL  687.650024 -24.998632\n",
      "2   PAYTM.NS    BUY  581.650024   0.000000\n",
      "3   PAYTM.NS   SELL  594.099976   2.140454\n",
      "4   PAYTM.NS    BUY  617.099976   0.000000\n",
      "5   PAYTM.NS   SELL  701.349976  13.652569\n",
      "6   PAYTM.NS    BUY  762.049988   0.000000\n",
      "7   PAYTM.NS   SELL  681.500000 -10.570171\n",
      "8   PAYTM.NS    BUY  637.500000   0.000000\n",
      "9   PAYTM.NS   SELL  539.400024 -15.388231\n",
      "10  PAYTM.NS    BUY  512.849976   0.000000\n",
      "11  PAYTM.NS   SELL  551.349976   7.507069\n",
      "12  PAYTM.NS    BUY  532.950012   0.000000\n",
      "13  PAYTM.NS   SELL  675.950012  26.831785\n",
      "Average P/L = -0.12%\n",
      "[*********************100%***********************]  1 of 1 completed\n",
      "       Symbol Signal      Price        P/L\n",
      "0   ZOMATO.NS    BUY  90.400002   0.000000\n",
      "1   ZOMATO.NS   SELL  85.050003  -5.918140\n",
      "2   ZOMATO.NS    BUY  81.199997   0.000000\n",
      "3   ZOMATO.NS   SELL  71.050003 -12.499993\n",
      "4   ZOMATO.NS    BUY  65.000000   0.000000\n",
      "5   ZOMATO.NS   SELL  57.900002 -10.923075\n",
      "6   ZOMATO.NS    BUY  59.500000   0.000000\n",
      "7   ZOMATO.NS   SELL  63.200001   6.218489\n",
      "8   ZOMATO.NS    BUY  61.200001   0.000000\n",
      "9   ZOMATO.NS   SELL  65.550003   7.107847\n",
      "10  ZOMATO.NS    BUY  62.349998   0.000000\n",
      "11  ZOMATO.NS   SELL  65.099998   4.410586\n",
      "12  ZOMATO.NS    BUY  63.549999   0.000000\n",
      "13  ZOMATO.NS   SELL  64.599998   1.652241\n",
      "14  ZOMATO.NS    BUY  62.150002   0.000000\n",
      "15  ZOMATO.NS   SELL  51.799999 -16.653262\n",
      "Average P/L = -3.33%\n"
     ]
    }
   ],
   "source": [
    "\n",
    "# Define the symbols to trade and the moving averages to use\n",
    "symbols = [\"PAYTM.NS\",\"ZOMATO.NS\"]\n",
    "\n",
    "# Define a function to check if a crossover has occurred\n",
    "def check_crossover(symbol_data):\n",
    "    short_ma = symbol_data[\"MA1\"]\n",
    "    long_ma = symbol_data[\"MA2\"]\n",
    "    if short_ma > long_ma:\n",
    "        return \"SELL\"\n",
    "    elif short_ma < long_ma:\n",
    "        return \"BUY\"\n",
    "    else:\n",
    "        return \"HOLD\"\n",
    "\n",
    "# Loop over the symbols and get historical data\n",
    "for symbol in symbols:\n",
    "    trade_backtest = []\n",
    "\n",
    "    data = yf.download(symbol, start=\"2022-01-01\", end=\"2023-02-22\")\n",
    "    data[\"MA1\"] = data[\"Close\"].rolling(10).mean()\n",
    "    data[\"MA2\"] = data[\"Close\"].rolling(20).mean()\n",
    "    data[\"Signal\"] = data.apply(check_crossover, axis=1)\n",
    "  \n",
    "    # Initialize positions\n",
    "    position = 0\n",
    "    total_pnl = 0\n",
    "    total = 0\n",
    "    for index, row in data.iterrows():\n",
    "        pnl = 0\n",
    "        if row[\"Signal\"] == \"BUY\" and position == 0:\n",
    "            # Enter a long position\n",
    "            position = 1\n",
    "            entry_price = row[\"Close\"]\n",
    "        elif row[\"Signal\"] == \"SELL\" and position == 1:\n",
    "            # Exit the long position\n",
    "            position = 0\n",
    "            exit_price = row[\"Close\"]\n",
    "            # Calculate the profit or loss\n",
    "            pnl = (exit_price - entry_price) / entry_price * 100\n",
    "            total += 1\n",
    "            total_pnl += pnl\n",
    "        else:\n",
    "            continue\n",
    "        trade_backtest.append({\n",
    "            'Symbol': symbol,\n",
    "            'Signal': row[\"Signal\"],\n",
    "            'Price': row[\"Close\"],\n",
    "            'P/L': pnl\n",
    "        })\n",
    "\n",
    "    trade_backtest = pd.DataFrame(trade_backtest)\n",
    "    print(trade_backtest)\n",
    "    print(\"Average P/L = \" + f\"{(total_pnl/total):.2f}%\")"
   ]
  }
 ],
 "metadata": {
  "kernelspec": {
   "display_name": "venv",
   "language": "python",
   "name": "python3"
  },
  "language_info": {
   "codemirror_mode": {
    "name": "ipython",
    "version": 3
   },
   "file_extension": ".py",
   "mimetype": "text/x-python",
   "name": "python",
   "nbconvert_exporter": "python",
   "pygments_lexer": "ipython3",
   "version": "3.10.6"
  },
  "orig_nbformat": 4,
  "vscode": {
   "interpreter": {
    "hash": "f242b24cf1a048696cf5f27eeecdb556e9addf49124f09c8ddb3af752a2261ce"
   }
  }
 },
 "nbformat": 4,
 "nbformat_minor": 2
}
