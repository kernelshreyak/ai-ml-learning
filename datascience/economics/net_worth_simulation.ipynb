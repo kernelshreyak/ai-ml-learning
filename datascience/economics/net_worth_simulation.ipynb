{
 "cells": [
  {
   "attachments": {},
   "cell_type": "markdown",
   "metadata": {},
   "source": [
    "## Net worth growth simulation"
   ]
  },
  {
   "cell_type": "code",
   "execution_count": 2,
   "metadata": {},
   "outputs": [
    {
     "name": "stdout",
     "output_type": "stream",
     "text": [
      "Age:18\n",
      "Age:19\n",
      "Age:20\n",
      "Age:21\n",
      "Age:22\n",
      "Age:23\n",
      "Age:24\n",
      "Age:25\n",
      "Age:26\n",
      "Age:27\n",
      "Age:28\n",
      "Age:29\n",
      "Age:30\n",
      "Age:31\n",
      "Age:32\n",
      "Age:33\n",
      "Age:34\n",
      "Age:35\n",
      "Age:36\n",
      "Age:37\n",
      "Age:38\n",
      "Age:39\n",
      "Age:40\n",
      "Age:41\n",
      "Age:42\n",
      "Age:43\n",
      "Age:44\n",
      "Age:45\n",
      "Age:46\n",
      "Age:47\n",
      "Age:48\n",
      "Age:49\n",
      "Age:50\n",
      "Age:51\n",
      "Age:52\n",
      "Age:53\n",
      "Age:54\n",
      "Age:55\n",
      "Age:56\n",
      "Age:57\n",
      "Age:58\n",
      "Age:59\n",
      "Age:60\n",
      "Age:61\n",
      "Age:62\n",
      "Age:63\n",
      "Age:64\n",
      "Age:65\n",
      "Age:66\n",
      "Age:67\n",
      "Age:68\n",
      "Age:69\n",
      "Age:70\n",
      "Age:71\n",
      "Age:72\n",
      "Age:73\n",
      "Age:74\n",
      "Age:75\n",
      "Age:76\n",
      "Age:77\n",
      "Age:78\n",
      "Age:79\n"
     ]
    }
   ],
   "source": [
    "import numpy as np\n",
    "import matplotlib.pyplot as plt\n",
    "import random\n",
    "\n",
    "\n",
    "person1 = {\n",
    "    \"JSA\": 25,  # job start age\n",
    "    \"M\": 29,  # marriage age\n",
    "}\n",
    "\n",
    "\n",
    "for age in range(18,80):\n",
    "    print(\"Age:\" + str(age))"
   ]
  }
 ],
 "metadata": {
  "kernelspec": {
   "display_name": "Python 3",
   "language": "python",
   "name": "python3"
  },
  "language_info": {
   "codemirror_mode": {
    "name": "ipython",
    "version": 3
   },
   "file_extension": ".py",
   "mimetype": "text/x-python",
   "name": "python",
   "nbconvert_exporter": "python",
   "pygments_lexer": "ipython3",
   "version": "3.10.6"
  },
  "orig_nbformat": 4,
  "vscode": {
   "interpreter": {
    "hash": "916dbcbb3f70747c44a77c7bcd40155683ae19c65e1c03b4aa3499c5328201f1"
   }
  }
 },
 "nbformat": 4,
 "nbformat_minor": 2
}
