{
 "cells": [
  {
   "cell_type": "markdown",
   "metadata": {},
   "source": [
    "## MNIST classifier neural net from scratch"
   ]
  },
  {
   "cell_type": "code",
   "execution_count": 3,
   "metadata": {
    "id": "o7zWDTkg8rrV"
   },
   "outputs": [],
   "source": [
    "import torch\n",
    "import torch.nn as nn\n",
    "import torch.optim as optim\n",
    "from torchvision import datasets, transforms\n",
    "from torch.utils.data import DataLoader\n"
   ]
  },
  {
   "cell_type": "code",
   "execution_count": 5,
   "metadata": {
    "colab": {
     "base_uri": "https://localhost:8080/"
    },
    "id": "jpALopXX815G",
    "outputId": "99751204-b6d1-4e18-fb66-83b84f45cccc"
   },
   "outputs": [
    {
     "name": "stderr",
     "output_type": "stream",
     "text": [
      "\u001b[34m\u001b[1mwandb\u001b[0m: Currently logged in as: \u001b[33mshreyak\u001b[0m (\u001b[33mshreyakchakraborty\u001b[0m). Use \u001b[1m`wandb login --relogin`\u001b[0m to force relogin\n",
      "\u001b[34m\u001b[1mwandb\u001b[0m: Using wandb-core as the SDK backend.  Please refer to https://wandb.me/wandb-core for more information.\n"
     ]
    },
    {
     "data": {
      "text/html": [
       "Tracking run with wandb version 0.19.2"
      ],
      "text/plain": [
       "<IPython.core.display.HTML object>"
      ]
     },
     "metadata": {},
     "output_type": "display_data"
    },
    {
     "data": {
      "text/html": [
       "Run data is saved locally in <code>/teamspace/studios/this_studio/wandb/run-20250111_140242-x6womyeb</code>"
      ],
      "text/plain": [
       "<IPython.core.display.HTML object>"
      ]
     },
     "metadata": {},
     "output_type": "display_data"
    },
    {
     "data": {
      "text/html": [
       "Syncing run <strong><a href='https://wandb.ai/shreyakchakraborty/mnist-classification/runs/x6womyeb' target=\"_blank\">frosty-rain-1</a></strong> to <a href='https://wandb.ai/shreyakchakraborty/mnist-classification' target=\"_blank\">Weights & Biases</a> (<a href='https://wandb.me/developer-guide' target=\"_blank\">docs</a>)<br>"
      ],
      "text/plain": [
       "<IPython.core.display.HTML object>"
      ]
     },
     "metadata": {},
     "output_type": "display_data"
    },
    {
     "data": {
      "text/html": [
       " View project at <a href='https://wandb.ai/shreyakchakraborty/mnist-classification' target=\"_blank\">https://wandb.ai/shreyakchakraborty/mnist-classification</a>"
      ],
      "text/plain": [
       "<IPython.core.display.HTML object>"
      ]
     },
     "metadata": {},
     "output_type": "display_data"
    },
    {
     "data": {
      "text/html": [
       " View run at <a href='https://wandb.ai/shreyakchakraborty/mnist-classification/runs/x6womyeb' target=\"_blank\">https://wandb.ai/shreyakchakraborty/mnist-classification/runs/x6womyeb</a>"
      ],
      "text/plain": [
       "<IPython.core.display.HTML object>"
      ]
     },
     "metadata": {},
     "output_type": "display_data"
    },
    {
     "name": "stdout",
     "output_type": "stream",
     "text": [
      "Using device: cpu\n",
      "Epoch [1/5], Loss: 0.4326\n",
      "Epoch [2/5], Loss: 0.1787\n",
      "Epoch [3/5], Loss: 0.1315\n",
      "Epoch [4/5], Loss: 0.1054\n",
      "Epoch [5/5], Loss: 0.0887\n",
      "Test Accuracy: 96.39%\n"
     ]
    },
    {
     "data": {
      "text/html": [],
      "text/plain": [
       "<IPython.core.display.HTML object>"
      ]
     },
     "metadata": {},
     "output_type": "display_data"
    },
    {
     "data": {
      "text/html": [
       "<br>    <style><br>        .wandb-row {<br>            display: flex;<br>            flex-direction: row;<br>            flex-wrap: wrap;<br>            justify-content: flex-start;<br>            width: 100%;<br>        }<br>        .wandb-col {<br>            display: flex;<br>            flex-direction: column;<br>            flex-basis: 100%;<br>            flex: 1;<br>            padding: 10px;<br>        }<br>    </style><br><div class=\"wandb-row\"><div class=\"wandb-col\"><h3>Run history:</h3><br/><table class=\"wandb\"><tr><td>epoch</td><td>▁▃▅▆█</td></tr><tr><td>test_accuracy</td><td>▁</td></tr><tr><td>train_loss</td><td>█▃▂▁▁</td></tr></table><br/></div><div class=\"wandb-col\"><h3>Run summary:</h3><br/><table class=\"wandb\"><tr><td>epoch</td><td>5</td></tr><tr><td>test_accuracy</td><td>96.39</td></tr><tr><td>train_loss</td><td>0.08871</td></tr></table><br/></div></div>"
      ],
      "text/plain": [
       "<IPython.core.display.HTML object>"
      ]
     },
     "metadata": {},
     "output_type": "display_data"
    },
    {
     "data": {
      "text/html": [
       " View run <strong style=\"color:#cdcd00\">frosty-rain-1</strong> at: <a href='https://wandb.ai/shreyakchakraborty/mnist-classification/runs/x6womyeb' target=\"_blank\">https://wandb.ai/shreyakchakraborty/mnist-classification/runs/x6womyeb</a><br> View project at: <a href='https://wandb.ai/shreyakchakraborty/mnist-classification' target=\"_blank\">https://wandb.ai/shreyakchakraborty/mnist-classification</a><br>Synced 5 W&B file(s), 1 media file(s), 66 artifact file(s) and 0 other file(s)"
      ],
      "text/plain": [
       "<IPython.core.display.HTML object>"
      ]
     },
     "metadata": {},
     "output_type": "display_data"
    },
    {
     "data": {
      "text/html": [
       "Find logs at: <code>./wandb/run-20250111_140242-x6womyeb/logs</code>"
      ],
      "text/plain": [
       "<IPython.core.display.HTML object>"
      ]
     },
     "metadata": {},
     "output_type": "display_data"
    }
   ],
   "source": [
    "import wandb\n",
    "import torch\n",
    "import torch.nn as nn\n",
    "import torch.optim as optim\n",
    "from torchvision import datasets, transforms\n",
    "from torch.utils.data import DataLoader\n",
    "\n",
    "# Initialize W&B project\n",
    "wandb.init(project=\"mnist-classification\", config={\n",
    "    \"epochs\": 5,\n",
    "    \"batch_size\": 64,\n",
    "    \"learning_rate\": 0.01,\n",
    "    \"momentum\": 0.9,\n",
    "})\n",
    "\n",
    "config = wandb.config\n",
    "\n",
    "# Load MNIST dataset\n",
    "transform = transforms.Compose([\n",
    "    transforms.ToTensor(),\n",
    "    transforms.Normalize((0.5,), (0.5,))  # Normalize to range [-1, 1]\n",
    "])\n",
    "\n",
    "train_dataset = datasets.MNIST(root='./data', train=True, transform=transform, download=True)\n",
    "test_dataset = datasets.MNIST(root='./data', train=False, transform=transform, download=True)\n",
    "\n",
    "train_loader = DataLoader(train_dataset, batch_size=config.batch_size, shuffle=True)\n",
    "test_loader = DataLoader(test_dataset, batch_size=config.batch_size, shuffle=False)\n",
    "\n",
    "# Define the Neural Network\n",
    "class MNISTNet(nn.Module):\n",
    "    def __init__(self):\n",
    "        super(MNISTNet, self).__init__()\n",
    "        self.flatten = nn.Flatten()  # Flatten 28x28 images into 784 input features\n",
    "        self.fc1 = nn.Linear(28 * 28, 128)  # First fully connected layer\n",
    "        self.relu1 = nn.ReLU()  # ReLU activation\n",
    "        self.fc2 = nn.Linear(128, 64)  # Second fully connected layer\n",
    "        self.relu2 = nn.ReLU()  # ReLU activation\n",
    "        self.fc3 = nn.Linear(64, 10)  # Output layer (10 classes for digits 0-9)\n",
    "\n",
    "    def forward(self, x):\n",
    "        x = self.flatten(x)  # Flatten the input\n",
    "        x = self.relu1(self.fc1(x))  # Apply first layer + activation\n",
    "        x = self.relu2(self.fc2(x))  # Apply second layer + activation\n",
    "        x = self.fc3(x)  # Output logits\n",
    "        return x\n",
    "\n",
    "# Check for GPU\n",
    "device = torch.device(\"cuda\" if torch.cuda.is_available() else \"cpu\")\n",
    "print(f\"Using device: {device}\")\n",
    "\n",
    "# Update the model and data to use the device\n",
    "model = MNISTNet().to(device)  # Move model to GPU/CPU\n",
    "criterion = nn.CrossEntropyLoss()  # Loss function does not need device specification\n",
    "optimizer = optim.SGD(model.parameters(), lr=config.learning_rate, momentum=config.momentum)\n",
    "\n",
    "# Function to log images in validation phase\n",
    "def log_image_table(images, predicted, labels, probs):\n",
    "    \"Log a wandb.Table with (img, pred, target, scores)\"\n",
    "    table = wandb.Table(columns=[\"image\", \"pred\", \"target\"] + [f\"score_{i}\" for i in range(10)])\n",
    "    for img, pred, targ, prob in zip(images.to(\"cpu\"), predicted.to(\"cpu\"), labels.to(\"cpu\"), probs.to(\"cpu\")):\n",
    "        img_np = img.permute(1, 2, 0).numpy() * 255  # Convert to HWC and scale to [0, 255]\n",
    "        table.add_data(wandb.Image(img_np), pred.item(), targ.item(), *prob.numpy())\n",
    "    wandb.log({\"predictions_table\": table}, commit=False)\n",
    "\n",
    "# Training Loop\n",
    "for epoch in range(config.epochs):\n",
    "    model.train()\n",
    "    total_loss = 0\n",
    "    for images, labels in train_loader:\n",
    "        images, labels = images.to(device), labels.to(device)  # Move data to GPU/CPU\n",
    "\n",
    "        optimizer.zero_grad()\n",
    "        outputs = model(images)\n",
    "        loss = criterion(outputs, labels)\n",
    "        loss.backward()\n",
    "        optimizer.step()\n",
    "        total_loss += loss.item()\n",
    "\n",
    "    avg_loss = total_loss / len(train_loader)\n",
    "    print(f\"Epoch [{epoch+1}/{config.epochs}], Loss: {avg_loss:.4f}\")\n",
    "\n",
    "    # Log training loss to W&B\n",
    "    wandb.log({\"epoch\": epoch + 1, \"train_loss\": avg_loss})\n",
    "\n",
    "# Evaluate the model\n",
    "model.eval()\n",
    "correct = 0\n",
    "total = 0\n",
    "logged_images = False  # Flag to log images only once during evaluation\n",
    "with torch.no_grad():\n",
    "    for images, labels in test_loader:\n",
    "        images, labels = images.to(device), labels.to(device)  # Move data to GPU/CPU\n",
    "        outputs = model(images)\n",
    "        probs = torch.nn.functional.softmax(outputs, dim=1)  # Convert logits to probabilities\n",
    "        _, predicted = torch.max(outputs, 1)\n",
    "        total += labels.size(0)\n",
    "        correct += (predicted == labels).sum().item()\n",
    "\n",
    "        # Log images for the first batch\n",
    "        if not logged_images:\n",
    "            log_image_table(images, predicted, labels, probs)\n",
    "            logged_images = True\n",
    "\n",
    "test_accuracy = 100 * correct / total\n",
    "print(f\"Test Accuracy: {test_accuracy:.2f}%\")\n",
    "\n",
    "# Log test accuracy to W&B\n",
    "wandb.log({\"test_accuracy\": test_accuracy})\n",
    "\n",
    "# Finish W&B run\n",
    "wandb.finish()"
   ]
  },
  {
   "cell_type": "code",
   "execution_count": null,
   "metadata": {
    "id": "vg-hq1a39qk8"
   },
   "outputs": [],
   "source": [
    "# test with an image from disk\n",
    "\n",
    "from PIL import Image\n",
    "import torchvision.transforms as transforms\n",
    "\n",
    "# Load the image\n",
    "image_path = \"path_to_image.jpg\"  # Replace with the path to your image\n",
    "image = Image.open(image_path).convert(\"L\")  # Convert to grayscale\n",
    "\n",
    "# Preprocess the image\n",
    "transform = transforms.Compose([\n",
    "    transforms.Resize((28, 28)),  # Resize to 28x28 pixels\n",
    "    transforms.ToTensor(),  # Convert to tensor\n",
    "    transforms.Normalize((0.5,), (0.5,))  # Normalize to range [-1, 1]\n",
    "])\n",
    "image_tensor = transform(image).unsqueeze(0)  # Add batch dimension\n",
    "\n",
    "# Move image tensor to the same device as the model\n",
    "image_tensor = image_tensor.to(device)\n",
    "\n",
    "# Perform inference\n",
    "model.eval()\n",
    "with torch.no_grad():\n",
    "    output = model(image_tensor)\n",
    "    _, predicted_label = torch.max(output, 1)\n",
    "\n",
    "print(f\"Predicted Label: {predicted_label.item()}\")\n"
   ]
  },
  {
   "cell_type": "markdown",
   "metadata": {
    "id": "V-lRp5WFa06E",
    "jp-MarkdownHeadingCollapsed": true
   },
   "source": [
    "## AlexNet PyTorch"
   ]
  },
  {
   "cell_type": "code",
   "execution_count": 1,
   "metadata": {
    "id": "2iM9JWLZa23K"
   },
   "outputs": [],
   "source": [
    "import numpy as np\n",
    "import torch\n",
    "import torch.nn as nn\n",
    "from torchvision import datasets\n",
    "from torchvision import transforms\n",
    "from torch.utils.data.sampler import SubsetRandomSampler\n",
    "\n",
    "# Device configuration\n",
    "device = torch.device('cuda' if torch.cuda.is_available() else 'cpu')"
   ]
  },
  {
   "cell_type": "code",
   "execution_count": 2,
   "metadata": {
    "colab": {
     "base_uri": "https://localhost:8080/"
    },
    "id": "Rj3SFeuFbBTJ",
    "outputId": "37c68b55-b613-4000-8139-86e8b26d23a3"
   },
   "outputs": [
    {
     "name": "stdout",
     "output_type": "stream",
     "text": [
      "Files already downloaded and verified\n",
      "Files already downloaded and verified\n",
      "Files already downloaded and verified\n"
     ]
    }
   ],
   "source": [
    "def get_train_valid_loader(data_dir,\n",
    "                               batch_size,\n",
    "                               augment,\n",
    "                               random_seed,\n",
    "                               valid_size=0.1,\n",
    "                               shuffle=True):\n",
    "        normalize = transforms.Normalize(\n",
    "            mean=[0.4914, 0.4822, 0.4465],\n",
    "            std=[0.2023, 0.1994, 0.2010],\n",
    "        )\n",
    "\n",
    "        # define transforms\n",
    "        valid_transform = transforms.Compose([\n",
    "                transforms.Resize((227,227)),\n",
    "                transforms.ToTensor(),\n",
    "                normalize,\n",
    "        ])\n",
    "        if augment:\n",
    "            train_transform = transforms.Compose([\n",
    "                transforms.RandomCrop(32, padding=4),\n",
    "                transforms.RandomHorizontalFlip(),\n",
    "                transforms.ToTensor(),\n",
    "                normalize,\n",
    "            ])\n",
    "        else:\n",
    "            train_transform = transforms.Compose([\n",
    "                transforms.Resize((227,227)),\n",
    "                transforms.ToTensor(),\n",
    "                normalize,\n",
    "            ])\n",
    "\n",
    "        # load the dataset\n",
    "        train_dataset = datasets.CIFAR10(\n",
    "            root=data_dir, train=True,\n",
    "            download=True, transform=train_transform,\n",
    "        )\n",
    "\n",
    "        valid_dataset = datasets.CIFAR10(\n",
    "            root=data_dir, train=True,\n",
    "            download=True, transform=valid_transform,\n",
    "        )\n",
    "\n",
    "        num_train = len(train_dataset)\n",
    "        indices = list(range(num_train))\n",
    "        split = int(np.floor(valid_size * num_train))\n",
    "\n",
    "        if shuffle:\n",
    "            np.random.seed(random_seed)\n",
    "            np.random.shuffle(indices)\n",
    "\n",
    "        train_idx, valid_idx = indices[split:], indices[:split]\n",
    "        train_sampler = SubsetRandomSampler(train_idx)\n",
    "        valid_sampler = SubsetRandomSampler(valid_idx)\n",
    "\n",
    "        train_loader = torch.utils.data.DataLoader(\n",
    "            train_dataset, batch_size=batch_size, sampler=train_sampler)\n",
    "\n",
    "        valid_loader = torch.utils.data.DataLoader(\n",
    "            valid_dataset, batch_size=batch_size, sampler=valid_sampler)\n",
    "\n",
    "        return (train_loader, valid_loader)\n",
    "\n",
    "\n",
    "def get_test_loader(data_dir,\n",
    "                    batch_size,\n",
    "                    shuffle=True):\n",
    "    normalize = transforms.Normalize(\n",
    "        mean=[0.485, 0.456, 0.406],\n",
    "        std=[0.229, 0.224, 0.225],\n",
    "    )\n",
    "\n",
    "    # define transform\n",
    "    transform = transforms.Compose([\n",
    "        transforms.Resize((227,227)),\n",
    "        transforms.ToTensor(),\n",
    "        normalize,\n",
    "    ])\n",
    "\n",
    "    dataset = datasets.CIFAR10(\n",
    "        root=data_dir, train=False,\n",
    "        download=True, transform=transform,\n",
    "    )\n",
    "\n",
    "    data_loader = torch.utils.data.DataLoader(\n",
    "        dataset, batch_size=batch_size, shuffle=shuffle\n",
    "    )\n",
    "\n",
    "    return data_loader\n",
    "\n",
    "# CIFAR10 dataset\n",
    "train_loader, valid_loader = get_train_valid_loader(data_dir = './data',                                      batch_size = 64,\n",
    "                        augment = False,                                          random_seed = 1)\n",
    "\n",
    "test_loader = get_test_loader(data_dir = './data',\n",
    "                              batch_size = 64)"
   ]
  },
  {
   "cell_type": "code",
   "execution_count": 10,
   "metadata": {
    "id": "8_JRHoUXbKpj"
   },
   "outputs": [],
   "source": [
    "class AlexNet(nn.Module):\n",
    "    def __init__(self, num_classes=10):\n",
    "        super(AlexNet, self).__init__()\n",
    "        self.layer1 = nn.Sequential(\n",
    "            nn.Conv2d(3, 96, kernel_size=11, stride=4, padding=0),\n",
    "            nn.BatchNorm2d(96),\n",
    "            nn.ReLU(),\n",
    "            nn.MaxPool2d(kernel_size = 3, stride = 2))\n",
    "        self.layer2 = nn.Sequential(\n",
    "            nn.Conv2d(96, 256, kernel_size=5, stride=1, padding=2),\n",
    "            nn.BatchNorm2d(256),\n",
    "            nn.ReLU(),\n",
    "            nn.MaxPool2d(kernel_size = 3, stride = 2))\n",
    "        self.layer3 = nn.Sequential(\n",
    "            nn.Conv2d(256, 384, kernel_size=3, stride=1, padding=1),\n",
    "            nn.BatchNorm2d(384),\n",
    "            nn.ReLU())\n",
    "        self.layer4 = nn.Sequential(\n",
    "            nn.Conv2d(384, 384, kernel_size=3, stride=1, padding=1),\n",
    "            nn.BatchNorm2d(384),\n",
    "            nn.ReLU())\n",
    "        self.layer5 = nn.Sequential(\n",
    "            nn.Conv2d(384, 256, kernel_size=3, stride=1, padding=1),\n",
    "            nn.BatchNorm2d(256),\n",
    "            nn.ReLU(),\n",
    "            nn.MaxPool2d(kernel_size = 3, stride = 2))\n",
    "        self.fc = nn.Sequential(\n",
    "            nn.Dropout(0.5),\n",
    "            nn.Linear(9216, 4096),\n",
    "            nn.ReLU())\n",
    "        self.fc1 = nn.Sequential(\n",
    "            nn.Dropout(0.5),\n",
    "            nn.Linear(4096, 4096),\n",
    "            nn.ReLU())\n",
    "        self.fc2= nn.Sequential(\n",
    "            nn.Linear(4096, num_classes))\n",
    "\n",
    "    def forward(self, x):\n",
    "        out = self.layer1(x)\n",
    "        out = self.layer2(out)\n",
    "        out = self.layer3(out)\n",
    "        out = self.layer4(out)\n",
    "        out = self.layer5(out)\n",
    "        out = out.reshape(out.size(0), -1)\n",
    "        out = self.fc(out)\n",
    "        out = self.fc1(out)\n",
    "        out = self.fc2(out)\n",
    "        return out"
   ]
  },
  {
   "cell_type": "code",
   "execution_count": 5,
   "metadata": {
    "id": "BlddTcpzbQqt"
   },
   "outputs": [],
   "source": [
    "# setting the hyperparameters\n",
    "\n",
    "num_classes = 10\n",
    "num_epochs = 20\n",
    "batch_size = 64\n",
    "learning_rate = 0.005\n",
    "\n",
    "model = AlexNet(num_classes).to(device)\n",
    "\n",
    "# Loss and optimizer\n",
    "criterion = nn.CrossEntropyLoss()\n",
    "optimizer = torch.optim.SGD(model.parameters(), lr=learning_rate, weight_decay = 0.005, momentum = 0.9)\n",
    "\n",
    "# Train the model\n",
    "total_step = len(train_loader)"
   ]
  },
  {
   "cell_type": "code",
   "execution_count": 6,
   "metadata": {
    "colab": {
     "base_uri": "https://localhost:8080/",
     "height": 373
    },
    "id": "UHCxHOMdbXnM",
    "outputId": "4b2debe7-c214-451b-99fc-4a06b89dad92"
   },
   "outputs": [
    {
     "name": "stdout",
     "output_type": "stream",
     "text": [
      "Epoch [1/20], Step [704/704], Loss: 1.3118\n",
      "Accuracy of the network on the 5000 validation images: 60.54 %\n",
      "Epoch [2/20], Step [704/704], Loss: 0.8509\n",
      "Accuracy of the network on the 5000 validation images: 68.92 %\n",
      "Epoch [3/20], Step [704/704], Loss: 1.0434\n",
      "Accuracy of the network on the 5000 validation images: 69.12 %\n",
      "Epoch [4/20], Step [704/704], Loss: 1.6783\n",
      "Accuracy of the network on the 5000 validation images: 75.22 %\n",
      "Epoch [5/20], Step [704/704], Loss: 0.1155\n",
      "Accuracy of the network on the 5000 validation images: 74.58 %\n",
      "Epoch [6/20], Step [704/704], Loss: 0.8936\n",
      "Accuracy of the network on the 5000 validation images: 78.62 %\n",
      "Epoch [7/20], Step [704/704], Loss: 0.4318\n",
      "Accuracy of the network on the 5000 validation images: 77.72 %\n",
      "Epoch [8/20], Step [704/704], Loss: 0.2691\n",
      "Accuracy of the network on the 5000 validation images: 78.6 %\n",
      "Epoch [9/20], Step [704/704], Loss: 0.1842\n",
      "Accuracy of the network on the 5000 validation images: 79.98 %\n",
      "Epoch [10/20], Step [704/704], Loss: 0.4344\n",
      "Accuracy of the network on the 5000 validation images: 80.78 %\n",
      "Epoch [11/20], Step [704/704], Loss: 0.7553\n",
      "Accuracy of the network on the 5000 validation images: 80.06 %\n",
      "Epoch [12/20], Step [704/704], Loss: 0.3239\n",
      "Accuracy of the network on the 5000 validation images: 82.12 %\n",
      "Epoch [13/20], Step [704/704], Loss: 0.3859\n",
      "Accuracy of the network on the 5000 validation images: 81.14 %\n",
      "Epoch [14/20], Step [704/704], Loss: 1.0283\n",
      "Accuracy of the network on the 5000 validation images: 79.46 %\n",
      "Epoch [15/20], Step [704/704], Loss: 0.0823\n",
      "Accuracy of the network on the 5000 validation images: 81.84 %\n",
      "Epoch [16/20], Step [704/704], Loss: 0.2580\n",
      "Accuracy of the network on the 5000 validation images: 81.92 %\n",
      "Epoch [17/20], Step [704/704], Loss: 0.1119\n",
      "Accuracy of the network on the 5000 validation images: 82.3 %\n",
      "Epoch [18/20], Step [704/704], Loss: 0.5269\n",
      "Accuracy of the network on the 5000 validation images: 80.64 %\n",
      "Epoch [19/20], Step [704/704], Loss: 0.1444\n",
      "Accuracy of the network on the 5000 validation images: 81.2 %\n",
      "Epoch [20/20], Step [704/704], Loss: 0.1286\n",
      "Accuracy of the network on the 5000 validation images: 81.88 %\n"
     ]
    }
   ],
   "source": [
    "for epoch in range(num_epochs):\n",
    "    for i, (images, labels) in enumerate(train_loader):\n",
    "        # Move tensors to the configured device\n",
    "        images = images.to(device)\n",
    "        labels = labels.to(device)\n",
    "\n",
    "        # Forward pass\n",
    "        outputs = model(images)\n",
    "        loss = criterion(outputs, labels)\n",
    "\n",
    "        # Backward and optimize\n",
    "        optimizer.zero_grad()\n",
    "        loss.backward()\n",
    "        optimizer.step()\n",
    "\n",
    "    print ('Epoch [{}/{}], Step [{}/{}], Loss: {:.4f}'\n",
    "                    .format(epoch+1, num_epochs, i+1, total_step, loss.item()))\n",
    "\n",
    "    # Validation\n",
    "    with torch.no_grad():\n",
    "        correct = 0\n",
    "        total = 0\n",
    "        for images, labels in valid_loader:\n",
    "            images = images.to(device)\n",
    "            labels = labels.to(device)\n",
    "            outputs = model(images)\n",
    "            _, predicted = torch.max(outputs.data, 1)\n",
    "            total += labels.size(0)\n",
    "            correct += (predicted == labels).sum().item()\n",
    "            del images, labels, outputs\n",
    "\n",
    "        print('Accuracy of the network on the {} validation images: {} %'.format(5000, 100 * correct / total))"
   ]
  },
  {
   "cell_type": "code",
   "execution_count": 7,
   "metadata": {
    "id": "VOqaENNebY6r"
   },
   "outputs": [
    {
     "name": "stdout",
     "output_type": "stream",
     "text": [
      "Accuracy of the network on the 10000 test images: 81.84 %\n"
     ]
    }
   ],
   "source": [
    "with torch.no_grad():\n",
    "  correct = 0\n",
    "  total = 0\n",
    "  for images, labels in test_loader:\n",
    "      images = images.to(device)\n",
    "      labels = labels.to(device)\n",
    "      outputs = model(images)\n",
    "      _, predicted = torch.max(outputs.data, 1)\n",
    "      total += labels.size(0)\n",
    "      correct += (predicted == labels).sum().item()\n",
    "      del images, labels, outputs\n",
    "\n",
    "  print('Accuracy of the network on the {} test images: {} %'.format(10000, 100 * correct / total))"
   ]
  },
  {
   "cell_type": "code",
   "execution_count": 11,
   "metadata": {},
   "outputs": [],
   "source": [
    "torch.save(model.state_dict(), \"trained_models/alexnet_cifar.pth\")"
   ]
  },
  {
   "cell_type": "code",
   "execution_count": 12,
   "metadata": {},
   "outputs": [
    {
     "name": "stdout",
     "output_type": "stream",
     "text": [
      "Transformed image shape: torch.Size([1, 3, 227, 227])\n",
      "Predicted Class: truck\n"
     ]
    }
   ],
   "source": [
    "from PIL import Image\n",
    "import torch\n",
    "import torchvision.transforms as transforms\n",
    "\n",
    "# Define image path\n",
    "image_path = \"test_samples/truck.jpeg\"  # Replace with the actual image path\n",
    "\n",
    "# Define the transformations to match AlexNet's expected input\n",
    "transform = transforms.Compose([\n",
    "    transforms.Resize((227, 227)),  # Resize to 227x227\n",
    "    transforms.ToTensor(),\n",
    "    transforms.Normalize(\n",
    "        mean=[0.485, 0.456, 0.406],\n",
    "        std=[0.229, 0.224, 0.225]\n",
    "    )\n",
    "])\n",
    "\n",
    "\n",
    "# Load and transform the image\n",
    "image = Image.open(image_path).convert(\"RGB\")  # Ensure the image has 3 channels (RGB)\n",
    "image_tensor = transform(image).unsqueeze(0)  # Add batch dimension\n",
    "\n",
    "# Print the tensor shape to verify\n",
    "print(f\"Transformed image shape: {image_tensor.shape}\")\n",
    "\n",
    "# Load your trained model\n",
    "model = AlexNet()  # Reinitialize your AlexNet model (or import it if defined elsewhere)\n",
    "model.load_state_dict(torch.load(\"trained_models/alexnet_cifar.pth\"))  # Load the trained weights\n",
    "model.eval()  # Set the model to evaluation mode\n",
    "\n",
    "# Perform inference\n",
    "with torch.no_grad():\n",
    "    outputs = model(image_tensor)\n",
    "    _, predicted_class = torch.max(outputs, 1)\n",
    "\n",
    "# Class labels for CIFAR-10\n",
    "classes = [\n",
    "    \"airplane\", \"automobile\", \"bird\", \"cat\", \"deer\",\n",
    "    \"dog\", \"frog\", \"horse\", \"ship\", \"truck\"\n",
    "]\n",
    "\n",
    "# Print the predicted label\n",
    "print(f\"Predicted Class: {classes[predicted_class.item()]}\")\n"
   ]
  },
  {
   "cell_type": "code",
   "execution_count": 13,
   "metadata": {},
   "outputs": [
    {
     "data": {
      "image/jpeg": "[encoded data removed]",
      "image/png": "[encoded data removed]",
      "text/plain": [
       "<PIL.Image.Image image mode=RGB size=275x183>"
      ]
     },
     "execution_count": 13,
     "metadata": {},
     "output_type": "execute_result"
    }
   ],
   "source": [
    "image"
   ]
  }
 ],
 "metadata": {
  "accelerator": "TPU",
  "colab": {
   "gpuType": "V28",
   "provenance": []
  },
  "kernelspec": {
   "display_name": "Python 3",
   "language": "python",
   "name": "python3"
  },
  "language_info": {
   "codemirror_mode": {
    "name": "ipython",
    "version": 3
   },
   "file_extension": ".py",
   "mimetype": "text/x-python",
   "name": "python",
   "nbconvert_exporter": "python",
   "pygments_lexer": "ipython3",
   "version": "3.10.10"
  }
 },
 "nbformat": 4,
 "nbformat_minor": 4
}
