{
 "cells": [
  {
   "cell_type": "code",
   "execution_count": 10,
   "id": "d20fb17b-a234-41ea-89d6-162e94734183",
   "metadata": {},
   "outputs": [],
   "source": [
    "import tensorflow as tf\n",
    "import matplotlib.pyplot as plt"
   ]
  },
  {
   "cell_type": "code",
   "execution_count": 3,
   "id": "d94c0ea6-d67f-492e-a31c-c062842441c1",
   "metadata": {},
   "outputs": [],
   "source": [
    "class_names = ['angry', 'disgust', 'fear', 'happy', 'neutral', 'sad', 'surprise']"
   ]
  },
  {
   "cell_type": "code",
   "execution_count": 11,
   "id": "a59ca0b8-732e-4215-8803-73b33857ea17",
   "metadata": {},
   "outputs": [
    {
     "name": "stderr",
     "output_type": "stream",
     "text": [
      "WARNING:absl:Compiled the loaded model, but the compiled metrics have yet to be built. `model.compile_metrics` will be empty until you train or evaluate the model.\n"
     ]
    },
    {
     "name": "stdout",
     "output_type": "stream",
     "text": [
      "\u001b[1m1/1\u001b[0m \u001b[32m━━━━━━━━━━━━━━━━━━━━\u001b[0m\u001b[37m\u001b[0m \u001b[1m0s\u001b[0m 108ms/step\n",
      "Predicted label: happy\n"
     ]
    },
    {
     "data": {
      "image/png": "[encoded data removed]",
      "text/plain": [
       "<Figure size 640x480 with 1 Axes>"
      ]
     },
     "metadata": {},
     "output_type": "display_data"
    }
   ],
   "source": [
    "# Step 1: Load a sample image (48x48 grayscale)\n",
    "img_path = '../sample_datasets/image/emotions/angry2.jpg'  # update with your actual image path\n",
    "img = tf.keras.preprocessing.image.load_img(img_path, color_mode='grayscale', target_size=(48, 48))\n",
    "\n",
    "# Step 2: Convert to array and add batch dimension\n",
    "img_array = tf.keras.preprocessing.image.img_to_array(img)  # shape: (48, 48, 1)\n",
    "img_array = tf.expand_dims(img_array, 0)  # shape: (1, 48, 48, 1)\n",
    "\n",
    "# Step 3: Normalize pixel values to match training\n",
    "img_array = img_array / 255.0\n",
    "\n",
    "model = tf.keras.models.load_model(\"../trained_models_computervision/emotion_model.h5\")\n",
    "\n",
    "# Step 4: Predict\n",
    "predictions = model.predict(img_array)\n",
    "predicted_class = tf.argmax(predictions[0]).numpy()\n",
    "\n",
    "# Step 5: Show result\n",
    "print(\"Predicted label:\", class_names[predicted_class])\n",
    "\n",
    "# Optional: Show the image\n",
    "plt.imshow(tf.squeeze(img_array[0]), cmap='gray')\n",
    "plt.title(f\"Predicted: {class_names[predicted_class]}\")\n",
    "plt.axis('off')\n",
    "plt.show()"
   ]
  },
  {
   "cell_type": "code",
   "execution_count": null,
   "id": "14806cb2-29f9-4da6-bcd8-85868d47c568",
   "metadata": {},
   "outputs": [],
   "source": []
  }
 ],
 "metadata": {
  "kernelspec": {
   "display_name": "Python 3 (ipykernel)",
   "language": "python",
   "name": "python3"
  },
  "language_info": {
   "codemirror_mode": {
    "name": "ipython",
    "version": 3
   },
   "file_extension": ".py",
   "mimetype": "text/x-python",
   "name": "python",
   "nbconvert_exporter": "python",
   "pygments_lexer": "ipython3",
   "version": "3.12.3"
  }
 },
 "nbformat": 4,
 "nbformat_minor": 5
}
